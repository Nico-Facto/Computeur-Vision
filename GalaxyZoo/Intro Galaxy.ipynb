{
 "cells": [
  {
   "cell_type": "code",
   "execution_count": 1,
   "metadata": {},
   "outputs": [
    {
     "data": {
      "application/javascript": [
       "IPython.notebook.set_autosave_interval(0)"
      ]
     },
     "metadata": {},
     "output_type": "display_data"
    },
    {
     "name": "stdout",
     "output_type": "stream",
     "text": [
      "Autosave disabled\n",
      "Using matplotlib backend: Qt5Agg\n"
     ]
    },
    {
     "name": "stderr",
     "output_type": "stream",
     "text": [
      "Using TensorFlow backend.\n"
     ]
    }
   ],
   "source": [
    "%autosave 0\n",
    "import matplotlib.pyplot as plt\n",
    "%matplotlib auto\n",
    "%matplotlib inline\n",
    "\n",
    "from sklearn.model_selection import train_test_split\n",
    "from sklearn import linear_model\n",
    "from sklearn.metrics import accuracy_score, confusion_matrix\n",
    "from sklearn.decomposition import PCA\n",
    "from sklearn.manifold import TSNE\n",
    "from sklearn.metrics import accuracy_score\n",
    "\n",
    "import numpy as np\n",
    "import seaborn as sns\n",
    "import pandas \n",
    "from pandas import read_csv\n",
    "\n",
    "import cv2\n",
    "import cvlib\n",
    "\n",
    "from skimage.transform import resize\n",
    "from tqdm.notebook import tqdm"
   ]
  },
  {
   "cell_type": "code",
   "execution_count": 2,
   "metadata": {},
   "outputs": [
    {
     "data": {
      "text/plain": [
       "(61578, 38)"
      ]
     },
     "execution_count": 2,
     "metadata": {},
     "output_type": "execute_result"
    }
   ],
   "source": [
    "seed = 69\n",
    "np.random.seed(seed)\n",
    "\n",
    "df_base = read_csv('training_solutions_rev1.csv')\n",
    "\n",
    "df_base.shape"
   ]
  },
  {
   "cell_type": "code",
   "execution_count": 3,
   "metadata": {},
   "outputs": [
    {
     "data": {
      "text/plain": [
       "((43104, 38), (18474, 38))"
      ]
     },
     "execution_count": 3,
     "metadata": {},
     "output_type": "execute_result"
    }
   ],
   "source": [
    "df_train, df_test = train_test_split(df_base, test_size=0.3, random_state=seed)\n",
    "df_train.shape, df_test.shape"
   ]
  },
  {
   "cell_type": "code",
   "execution_count": 4,
   "metadata": {},
   "outputs": [
    {
     "data": {
      "application/vnd.jupyter.widget-view+json": {
       "model_id": "e8cf14fe533242dd98520a7e27bd147b",
       "version_major": 2,
       "version_minor": 0
      },
      "text/plain": [
       "HBox(children=(IntProgress(value=0, max=43104), HTML(value='')))"
      ]
     },
     "metadata": {},
     "output_type": "display_data"
    },
    {
     "name": "stdout",
     "output_type": "stream",
     "text": [
      "\n"
     ]
    },
    {
     "data": {
      "application/vnd.jupyter.widget-view+json": {
       "model_id": "f77a9c60f13f4aa6affd123b9a20b722",
       "version_major": 2,
       "version_minor": 0
      },
      "text/plain": [
       "HBox(children=(IntProgress(value=0, max=18474), HTML(value='')))"
      ]
     },
     "metadata": {},
     "output_type": "display_data"
    },
    {
     "name": "stdout",
     "output_type": "stream",
     "text": [
      "\n"
     ]
    }
   ],
   "source": [
    "ORIG_SHAPE = (424,424)\n",
    "CROP_SIZE = (256,256)\n",
    "IMG_SHAPE = (64,64)\n",
    "\n",
    "def get_image(path, x1,y1, shape, crop_size):\n",
    "    x = plt.imread(path)\n",
    "    x = x[x1:x1+crop_size[0], y1:y1+crop_size[1]]\n",
    "    x = resize(x, shape)\n",
    "    x = x/255.\n",
    "    return x\n",
    "    \n",
    "def get_all_images(dataframe, shape=IMG_SHAPE, crop_size=CROP_SIZE):\n",
    "    x1 = (ORIG_SHAPE[0]-CROP_SIZE[0])//2\n",
    "    y1 = (ORIG_SHAPE[1]-CROP_SIZE[1])//2\n",
    "   \n",
    "    sel = dataframe.values\n",
    "    ids = sel[:,0].astype(int).astype(str)\n",
    "    y_batch = sel[:,1:]\n",
    "    x_batch = []\n",
    "    \n",
    "    for i in tqdm(ids):\n",
    "        x = get_image('./images_training_rev1/'+i+'.jpg', x1,y1, shape=shape, crop_size=crop_size)\n",
    "        x_batch.append(x)\n",
    "    x_batch = np.array(x_batch)\n",
    "    \n",
    "    return x_batch, y_batch\n",
    "        \n",
    "X_train, y_train = get_all_images(df_train)\n",
    "X_test, y_test = get_all_images(df_test)"
   ]
  },
  {
   "cell_type": "code",
   "execution_count": 5,
   "metadata": {},
   "outputs": [
    {
     "data": {
      "text/plain": [
       "((43104, 64, 64, 3), (43104, 37))"
      ]
     },
     "execution_count": 5,
     "metadata": {},
     "output_type": "execute_result"
    }
   ],
   "source": [
    "X_train.shape, y_train.shape"
   ]
  },
  {
   "cell_type": "code",
   "execution_count": 6,
   "metadata": {},
   "outputs": [
    {
     "data": {
      "text/plain": [
       "((18474, 64, 64, 3), (18474, 37))"
      ]
     },
     "execution_count": 6,
     "metadata": {},
     "output_type": "execute_result"
    }
   ],
   "source": [
    "X_test.shape, y_test.shape"
   ]
  },
  {
   "cell_type": "code",
   "execution_count": 7,
   "metadata": {},
   "outputs": [
    {
     "name": "stdout",
     "output_type": "stream",
     "text": [
      "Model: \"sequential_1\"\n",
      "_________________________________________________________________\n",
      "Layer (type)                 Output Shape              Param #   \n",
      "=================================================================\n",
      "conv2d_1 (Conv2D)            (None, 62, 62, 512)       14336     \n",
      "_________________________________________________________________\n",
      "conv2d_2 (Conv2D)            (None, 60, 60, 256)       1179904   \n",
      "_________________________________________________________________\n",
      "activation_1 (Activation)    (None, 60, 60, 256)       0         \n",
      "_________________________________________________________________\n",
      "max_pooling2d_1 (MaxPooling2 (None, 30, 30, 256)       0         \n",
      "_________________________________________________________________\n",
      "conv2d_3 (Conv2D)            (None, 28, 28, 256)       590080    \n",
      "_________________________________________________________________\n",
      "conv2d_4 (Conv2D)            (None, 26, 26, 128)       295040    \n",
      "_________________________________________________________________\n",
      "activation_2 (Activation)    (None, 26, 26, 128)       0         \n",
      "_________________________________________________________________\n",
      "max_pooling2d_2 (MaxPooling2 (None, 13, 13, 128)       0         \n",
      "_________________________________________________________________\n",
      "conv2d_5 (Conv2D)            (None, 11, 11, 128)       147584    \n",
      "_________________________________________________________________\n",
      "conv2d_6 (Conv2D)            (None, 9, 9, 128)         147584    \n",
      "_________________________________________________________________\n",
      "activation_3 (Activation)    (None, 9, 9, 128)         0         \n",
      "_________________________________________________________________\n",
      "global_max_pooling2d_1 (Glob (None, 128)               0         \n",
      "_________________________________________________________________\n",
      "dropout_1 (Dropout)          (None, 128)               0         \n",
      "_________________________________________________________________\n",
      "dense_1 (Dense)              (None, 128)               16512     \n",
      "_________________________________________________________________\n",
      "activation_4 (Activation)    (None, 128)               0         \n",
      "_________________________________________________________________\n",
      "dropout_2 (Dropout)          (None, 128)               0         \n",
      "_________________________________________________________________\n",
      "dense_2 (Dense)              (None, 128)               16512     \n",
      "_________________________________________________________________\n",
      "activation_5 (Activation)    (None, 128)               0         \n",
      "_________________________________________________________________\n",
      "dropout_3 (Dropout)          (None, 128)               0         \n",
      "_________________________________________________________________\n",
      "dense_3 (Dense)              (None, 128)               16512     \n",
      "_________________________________________________________________\n",
      "activation_6 (Activation)    (None, 128)               0         \n",
      "_________________________________________________________________\n",
      "dropout_4 (Dropout)          (None, 128)               0         \n",
      "_________________________________________________________________\n",
      "dense_4 (Dense)              (None, 37)                4773      \n",
      "_________________________________________________________________\n",
      "activation_7 (Activation)    (None, 37)                0         \n",
      "=================================================================\n",
      "Total params: 2,428,837\n",
      "Trainable params: 2,428,837\n",
      "Non-trainable params: 0\n",
      "_________________________________________________________________\n"
     ]
    }
   ],
   "source": [
    "from keras.models import Sequential\n",
    "from keras.layers import Conv2D, MaxPooling2D\n",
    "from keras.layers import Activation, Dropout, Flatten, Dense, BatchNormalization, GlobalMaxPooling2D\n",
    "from keras import backend as K\n",
    "\n",
    "def root_mean_squared_error(y_true, y_pred):\n",
    "        return K.sqrt(K.mean(K.square(y_pred - y_true))) \n",
    "\n",
    "model = Sequential()\n",
    "model.add(Conv2D(512, (3, 3), input_shape=(IMG_SHAPE[0], IMG_SHAPE[1], 3)))\n",
    "model.add(Conv2D(256, (3, 3)))\n",
    "#model.add(BatchNormalization())\n",
    "model.add(Activation('relu'))\n",
    "model.add(MaxPooling2D(pool_size=(2, 2)))\n",
    "\n",
    "model.add(Conv2D(256, (3, 3)))\n",
    "model.add(Conv2D(128, (3, 3)))\n",
    "#model.add(BatchNormalization())\n",
    "model.add(Activation('relu'))\n",
    "model.add(MaxPooling2D(pool_size=(2, 2)))\n",
    "\n",
    "model.add(Conv2D(128, (3, 3)))\n",
    "model.add(Conv2D(128, (3, 3)))\n",
    "#model.add(BatchNormalization())\n",
    "model.add(Activation('relu'))\n",
    "model.add(GlobalMaxPooling2D())\n",
    "\n",
    "\n",
    "model.add(Dropout(0.25))\n",
    "model.add(Dense(128))\n",
    "model.add(Activation('relu'))\n",
    "model.add(Dropout(0.25))\n",
    "model.add(Dense(128))\n",
    "model.add(Activation('relu'))\n",
    "model.add(Dropout(0.25))\n",
    "model.add(Dense(128))\n",
    "model.add(Activation('relu'))\n",
    "model.add(Dropout(0.25))\n",
    "model.add(Dense(37))\n",
    "model.add(Activation('sigmoid'))\n",
    "\n",
    "model.compile(loss='binary_crossentropy', optimizer='adamax', metrics=[root_mean_squared_error])\n",
    "model.summary()"
   ]
  },
  {
   "cell_type": "code",
   "execution_count": 8,
   "metadata": {
    "scrolled": true
   },
   "outputs": [
    {
     "name": "stdout",
     "output_type": "stream",
     "text": [
      "Train on 20 samples, validate on 20 samples\n",
      "Epoch 1/30\n",
      "20/20 [==============================] - 20s 1s/step - loss: 0.6931 - root_mean_squared_error: 0.4373 - val_loss: 0.6896 - val_root_mean_squared_error: 0.4315\n",
      "Epoch 2/30\n",
      "20/20 [==============================] - 17s 853ms/step - loss: 0.6894 - root_mean_squared_error: 0.4352 - val_loss: 0.6300 - val_root_mean_squared_error: 0.3959\n",
      "Epoch 3/30\n",
      "20/20 [==============================] - 18s 889ms/step - loss: 0.6391 - root_mean_squared_error: 0.4062 - val_loss: 0.5159 - val_root_mean_squared_error: 0.3342\n",
      "Epoch 4/30\n",
      "20/20 [==============================] - 17s 870ms/step - loss: 0.6665 - root_mean_squared_error: 0.4012 - val_loss: 0.5434 - val_root_mean_squared_error: 0.3421\n",
      "Epoch 5/30\n",
      "20/20 [==============================] - 17s 865ms/step - loss: 0.5650 - root_mean_squared_error: 0.3638 - val_loss: 0.5779 - val_root_mean_squared_error: 0.3628\n",
      "Epoch 6/30\n",
      "20/20 [==============================] - 18s 922ms/step - loss: 0.5869 - root_mean_squared_error: 0.3747 - val_loss: 0.5629 - val_root_mean_squared_error: 0.3529\n",
      "Epoch 7/30\n",
      "20/20 [==============================] - 18s 923ms/step - loss: 0.5754 - root_mean_squared_error: 0.3674 - val_loss: 0.5025 - val_root_mean_squared_error: 0.3126\n",
      "Epoch 8/30\n",
      "20/20 [==============================] - 18s 895ms/step - loss: 0.5277 - root_mean_squared_error: 0.3379 - val_loss: 0.4084 - val_root_mean_squared_error: 0.2496\n",
      "Epoch 9/30\n",
      "20/20 [==============================] - 17s 875ms/step - loss: 0.4949 - root_mean_squared_error: 0.3170 - val_loss: 0.3669 - val_root_mean_squared_error: 0.2203\n",
      "Epoch 10/30\n",
      "20/20 [==============================] - 17s 852ms/step - loss: 0.5210 - root_mean_squared_error: 0.3071 - val_loss: 0.3641 - val_root_mean_squared_error: 0.2168\n",
      "Epoch 11/30\n",
      "20/20 [==============================] - 17s 850ms/step - loss: 0.4825 - root_mean_squared_error: 0.2993 - val_loss: 0.3988 - val_root_mean_squared_error: 0.2382\n",
      "Epoch 12/30\n",
      "20/20 [==============================] - 17s 868ms/step - loss: 0.4672 - root_mean_squared_error: 0.3008 - val_loss: 0.4285 - val_root_mean_squared_error: 0.2581\n",
      "Epoch 13/30\n",
      "20/20 [==============================] - 17s 850ms/step - loss: 0.4654 - root_mean_squared_error: 0.2965 - val_loss: 0.4180 - val_root_mean_squared_error: 0.2498\n",
      "Epoch 14/30\n",
      "20/20 [==============================] - 17s 849ms/step - loss: 0.4565 - root_mean_squared_error: 0.2909 - val_loss: 0.3800 - val_root_mean_squared_error: 0.2215\n",
      "Epoch 15/30\n",
      "20/20 [==============================] - 17s 854ms/step - loss: 0.4227 - root_mean_squared_error: 0.2656 - val_loss: 0.3340 - val_root_mean_squared_error: 0.1879\n",
      "Epoch 16/30\n",
      "20/20 [==============================] - 17s 855ms/step - loss: 0.4188 - root_mean_squared_error: 0.2605 - val_loss: 0.3162 - val_root_mean_squared_error: 0.1744\n",
      "Epoch 17/30\n",
      "20/20 [==============================] - 17s 850ms/step - loss: 0.4154 - root_mean_squared_error: 0.2482 - val_loss: 0.3121 - val_root_mean_squared_error: 0.1707\n",
      "Epoch 18/30\n",
      "20/20 [==============================] - 17s 855ms/step - loss: 0.3974 - root_mean_squared_error: 0.2399 - val_loss: 0.3140 - val_root_mean_squared_error: 0.1713\n",
      "Epoch 19/30\n",
      "20/20 [==============================] - 17s 851ms/step - loss: 0.3865 - root_mean_squared_error: 0.2384 - val_loss: 0.3281 - val_root_mean_squared_error: 0.1798\n",
      "Epoch 20/30\n",
      "20/20 [==============================] - 17s 860ms/step - loss: 0.3990 - root_mean_squared_error: 0.2468 - val_loss: 0.3456 - val_root_mean_squared_error: 0.1916\n",
      "Epoch 21/30\n",
      "20/20 [==============================] - 17s 848ms/step - loss: 0.4029 - root_mean_squared_error: 0.2502 - val_loss: 0.3466 - val_root_mean_squared_error: 0.1918\n",
      "Epoch 22/30\n",
      "20/20 [==============================] - 17s 855ms/step - loss: 0.3876 - root_mean_squared_error: 0.2414 - val_loss: 0.3328 - val_root_mean_squared_error: 0.1816\n",
      "Epoch 23/30\n",
      "20/20 [==============================] - 17s 857ms/step - loss: 0.3804 - root_mean_squared_error: 0.2364 - val_loss: 0.3108 - val_root_mean_squared_error: 0.1668\n",
      "Epoch 24/30\n",
      "20/20 [==============================] - 17s 874ms/step - loss: 0.3678 - root_mean_squared_error: 0.2240 - val_loss: 0.2988 - val_root_mean_squared_error: 0.1607\n",
      "Epoch 25/30\n",
      "20/20 [==============================] - 18s 920ms/step - loss: 0.3651 - root_mean_squared_error: 0.2185 - val_loss: 0.2969 - val_root_mean_squared_error: 0.1603\n",
      "Epoch 26/30\n",
      "20/20 [==============================] - 17s 871ms/step - loss: 0.3765 - root_mean_squared_error: 0.2210 - val_loss: 0.2968 - val_root_mean_squared_error: 0.1601\n",
      "Epoch 27/30\n",
      "20/20 [==============================] - 18s 912ms/step - loss: 0.3888 - root_mean_squared_error: 0.2360 - val_loss: 0.3023 - val_root_mean_squared_error: 0.1623\n",
      "Epoch 28/30\n",
      "20/20 [==============================] - 17s 851ms/step - loss: 0.3607 - root_mean_squared_error: 0.2242 - val_loss: 0.3136 - val_root_mean_squared_error: 0.1687\n",
      "Epoch 29/30\n",
      "20/20 [==============================] - 17s 863ms/step - loss: 0.3699 - root_mean_squared_error: 0.2297 - val_loss: 0.3210 - val_root_mean_squared_error: 0.1735\n",
      "Epoch 30/30\n",
      "20/20 [==============================] - 17s 850ms/step - loss: 0.3704 - root_mean_squared_error: 0.2277 - val_loss: 0.3185 - val_root_mean_squared_error: 0.1721\n"
     ]
    }
   ],
   "source": [
    "batch_size = 5 #128\n",
    "history = model.fit(X_train[0:20], y_train[0:20], epochs=30, validation_data=(X_test[0:20], y_test[0:20]))"
   ]
  },
  {
   "cell_type": "code",
   "execution_count": 9,
   "metadata": {},
   "outputs": [
    {
     "data": {
      "text/plain": [
       "<function matplotlib.pyplot.show(*args, **kw)>"
      ]
     },
     "execution_count": 9,
     "metadata": {},
     "output_type": "execute_result"
    },
    {
     "data": {
      "image/png": "[encoded data removed]",
      "text/plain": [
       "<Figure size 432x288 with 1 Axes>"
      ]
     },
     "metadata": {
      "needs_background": "light"
     },
     "output_type": "display_data"
    }
   ],
   "source": [
    "pandas.DataFrame(history.history).plot()\n",
    "plt.grid = True\n",
    "plt.show"
   ]
  },
  {
   "cell_type": "code",
   "execution_count": 10,
   "metadata": {},
   "outputs": [],
   "source": [
    "pred = model.predict(X_test[0:100])"
   ]
  },
  {
   "cell_type": "code",
   "execution_count": 11,
   "metadata": {},
   "outputs": [
    {
     "name": "stdout",
     "output_type": "stream",
     "text": [
      "[[0.30510423 0.6406885  0.05935472 ... 0.09849349 0.09444714 0.11188009]\n",
      " [0.30518094 0.64061975 0.05943239 ... 0.09858996 0.09453923 0.11197266]\n",
      " [0.30950552 0.63725024 0.06338337 ... 0.10359207 0.09946537 0.11718312]\n",
      " ...\n",
      " [0.3061973  0.63984185 0.06032595 ... 0.09973556 0.09566483 0.11316606]\n",
      " [0.30778193 0.63859415 0.0617809  ... 0.10157496 0.09748399 0.11509153]\n",
      " [0.3082719  0.63823754 0.06220242 ... 0.1021122  0.09801376 0.11563674]]\n"
     ]
    }
   ],
   "source": [
    "print(pred)"
   ]
  },
  {
   "cell_type": "code",
   "execution_count": null,
   "metadata": {},
   "outputs": [],
   "source": []
  }
 ],
 "metadata": {
  "kernelspec": {
   "display_name": "Python 3",
   "language": "python",
   "name": "python3"
  },
  "language_info": {
   "codemirror_mode": {
    "name": "ipython",
    "version": 3
   },
   "file_extension": ".py",
   "mimetype": "text/x-python",
   "name": "python",
   "nbconvert_exporter": "python",
   "pygments_lexer": "ipython3",
   "version": "3.7.4"
  },
  "nbTranslate": {
   "displayLangs": [
    "*"
   ],
   "hotkey": "alt-t",
   "langInMainMenu": true,
   "sourceLang": "fr",
   "targetLang": "en",
   "useGoogleTranslate": true
  },
  "varInspector": {
   "cols": {
    "lenName": 16,
    "lenType": 16,
    "lenVar": 40
   },
   "kernels_config": {
    "python": {
     "delete_cmd_postfix": "",
     "delete_cmd_prefix": "del ",
     "library": "var_list.py",
     "varRefreshCmd": "print(var_dic_list())"
    },
    "r": {
     "delete_cmd_postfix": ") ",
     "delete_cmd_prefix": "rm(",
     "library": "var_list.r",
     "varRefreshCmd": "cat(var_dic_list()) "
    }
   },
   "types_to_exclude": [
    "module",
    "function",
    "builtin_function_or_method",
    "instance",
    "_Feature"
   ],
   "window_display": false
  }
 },
 "nbformat": 4,
 "nbformat_minor": 2
}
