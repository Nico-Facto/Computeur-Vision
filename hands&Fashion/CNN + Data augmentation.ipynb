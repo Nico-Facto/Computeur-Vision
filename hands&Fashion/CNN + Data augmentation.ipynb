{
 "cells": [
  {
   "cell_type": "code",
   "execution_count": 1,
   "metadata": {},
   "outputs": [],
   "source": [
    "#pour regler le probléme de thuncat == \n",
    "# !pip install matplotlib==3.1.0"
   ]
  },
  {
   "cell_type": "code",
   "execution_count": 2,
   "metadata": {},
   "outputs": [
    {
     "data": {
      "application/javascript": [
       "IPython.notebook.set_autosave_interval(0)"
      ]
     },
     "metadata": {},
     "output_type": "display_data"
    },
    {
     "name": "stdout",
     "output_type": "stream",
     "text": [
      "Autosave disabled\n"
     ]
    },
    {
     "name": "stderr",
     "output_type": "stream",
     "text": [
      "Using TensorFlow backend.\n"
     ]
    }
   ],
   "source": [
    "%autosave 0\n",
    "from keras.models import Sequential\n",
    "from keras.layers import Conv2D, MaxPooling2D, Flatten, Dense, Dropout\n",
    "from tensorflow.keras.preprocessing.image import ImageDataGenerator as idg\n",
    "\n",
    "from sklearn.metrics import confusion_matrix, accuracy_score\n",
    "from sklearn.model_selection import train_test_split\n",
    "from sklearn.model_selection import StratifiedKFold\n",
    "\n",
    "import numpy as np\n",
    "import seaborn as sns\n",
    "import matplotlib.pyplot as plt\n",
    "\n",
    "import warnings\n",
    "warnings.filterwarnings(\"ignore\") "
   ]
  },
  {
   "cell_type": "markdown",
   "metadata": {},
   "source": [
    "# Presentation des datas "
   ]
  },
  {
   "cell_type": "code",
   "execution_count": 3,
   "metadata": {},
   "outputs": [
    {
     "data": {
      "text/plain": [
       "((2062, 64, 64), (2062, 10))"
      ]
     },
     "execution_count": 3,
     "metadata": {},
     "output_type": "execute_result"
    }
   ],
   "source": [
    "x = np.load('X.npy')\n",
    "Y = np.load('Y.npy')\n",
    "\n",
    "x.shape,Y.shape"
   ]
  },
  {
   "cell_type": "code",
   "execution_count": 4,
   "metadata": {},
   "outputs": [
    {
     "data": {
      "text/plain": [
       "51"
      ]
     },
     "execution_count": 4,
     "metadata": {},
     "output_type": "execute_result"
    }
   ],
   "source": [
    "no_tin = np.random.randint(0,100)\n",
    "no_tin"
   ]
  },
  {
   "cell_type": "code",
   "execution_count": 5,
   "metadata": {},
   "outputs": [
    {
     "data": {
      "text/plain": [
       "<matplotlib.image.AxesImage at 0x205fd293808>"
      ]
     },
     "execution_count": 5,
     "metadata": {},
     "output_type": "execute_result"
    },
    {
     "data": {
      "image/png": "[encoded data removed]",
      "text/plain": [
       "<Figure size 432x288 with 1 Axes>"
      ]
     },
     "metadata": {
      "needs_background": "light"
     },
     "output_type": "display_data"
    }
   ],
   "source": [
    "plt.imshow(x[no_tin])"
   ]
  },
  {
   "cell_type": "markdown",
   "metadata": {},
   "source": [
    "# Data augmentation"
   ]
  },
  {
   "cell_type": "code",
   "execution_count": 6,
   "metadata": {},
   "outputs": [],
   "source": [
    "def aug(X_aug,y_aug,aug_size):  \n",
    "    \n",
    "    ### Génération procédurale d'image #####\n",
    "    \n",
    "    X_aug = X_aug.reshape(2062,64,64,1)\n",
    "    \n",
    "    colors = ['Accent', 'Accent_r', 'Blues', 'Blues_r', 'BrBG', 'BrBG_r', 'BuGn',\n",
    "              'BuGn_r', 'BuPu', 'BuPu_r', 'CMRmap', 'CMRmap_r', 'Dark2', 'Dark2_r',\n",
    "              'GnBu', 'GnBu_r', 'Greens', 'Greens_r', 'Greys', 'Greys_r', 'OrRd', 'OrRd_r',\n",
    "              'Oranges', 'Oranges_r', 'PRGn', 'PRGn_r', 'Paired', 'Paired_r', 'Pastel1', 'Pastel1_r', \n",
    "              'Pastel2', 'Pastel2_r', 'PiYG', 'PiYG_r', 'PuBu', 'PuBuGn', 'PuBuGn_r', 'PuBu_r', 'PuOr', 'PuOr_r', \n",
    "              'PuRd', 'PuRd_r', 'Purples', 'Purples_r', 'RdBu', 'RdBu_r', 'RdGy', 'RdGy_r', 'RdPu', 'RdPu_r', 'RdYlBu', \n",
    "              'RdYlBu_r', 'RdYlGn', 'RdYlGn_r', 'Reds', 'Reds_r', 'Set1', 'Set1_r', 'Set2', 'Set2_r', 'Set3', 'Set3_r', 'Spectral', \n",
    "              'Spectral_r', 'Wistia', 'Wistia_r', 'YlGn', 'YlGnBu', 'YlGnBu_r', 'YlGn_r', 'YlOrBr', 'YlOrBr_r', 'YlOrRd', 'YlOrRd_r', 'afmhot', \n",
    "              'afmhot_r', 'autumn', 'autumn_r', 'binary', 'binary_r', 'bone', 'bone_r', 'brg', 'brg_r', 'bwr', 'bwr_r', 'cividis', 'cividis_r', 'cool', \n",
    "              'cool_r', 'coolwarm', 'coolwarm_r', 'copper', 'copper_r', 'cubehelix', 'cubehelix_r', 'flag', 'flag_r', 'gist_earth', 'gist_earth_r', \n",
    "              'gist_gray', 'gist_gray_r', 'gist_heat', 'gist_heat_r', 'gist_ncar', 'gist_ncar_r', 'gist_rainbow', 'gist_rainbow_r', 'gist_stern', \n",
    "              'gist_stern_r', 'gist_yarg', 'gist_yarg_r', 'gnuplot', 'gnuplot2', 'gnuplot2_r', 'gnuplot_r', 'gray', 'gray_r', 'hot', 'hot_r', 'hsv', \n",
    "              'hsv_r', 'icefire', 'icefire_r', 'inferno', 'inferno_r', 'jet', 'jet_r', 'magma', 'magma_r', 'mako', 'mako_r', 'nipy_spectral', \n",
    "              'nipy_spectral_r', 'ocean', 'ocean_r', 'pink', 'pink_r', 'plasma', 'plasma_r', 'prism', 'prism_r', 'rainbow', 'rainbow_r', 'rocket', 'rocket_r',\n",
    "              'seismic', 'seismic_r', 'spring', 'spring_r', 'summer', 'summer_r', 'tab10', 'tab10_r', 'tab20', 'tab20_r', 'tab20b', 'tab20b_r', 'tab20c', 'tab20c_r', \n",
    "              'terrain', 'terrain_r', 'twilight', 'twilight_r', 'twilight_shifted', 'twilight_shifted_r',\n",
    "              'viridis', 'viridis_r', 'vlag', 'vlag_r', 'winter', 'winter_r']\n",
    "    \n",
    "    datagen = idg(featurewise_center=True,samplewise_center=True, featurewise_std_normalization=True, \n",
    "                 samplewise_std_normalization=True, zca_whitening=True, zca_epsilon=1e-06,\n",
    "                 rotation_range=30, width_shift_range=0.0, height_shift_range=0.0,\n",
    "                 brightness_range=None,  shear_range=0.0, zoom_range=0.0, channel_shift_range=0.0, \n",
    "                 fill_mode='nearest',cval=0.0,  horizontal_flip=False,vertical_flip=True,rescale=None, \n",
    "                 preprocessing_function=None, data_format='channels_last', validation_split=0.0)\n",
    "\n",
    "    # datagen.fit(nine2) # pour bien prendre en compte les blanchissements par ex, revient a standardisé les images\n",
    "    nine3 = datagen.flow(X_aug,y_aug,batch_size=aug_size)[0]\n",
    "\n",
    "    i=1\n",
    "    for image in nine3[0] :\n",
    "        choiceColor = colors[np.random.choice(172)]\n",
    "        plt.subplot(3,3, i)\n",
    "        plt.imshow(image.reshape(64,64),cmap=f'{choiceColor}')\n",
    "        i+=1\n",
    "        if i > 9 :\n",
    "            break\n",
    "    return nine3       "
   ]
  },
  {
   "cell_type": "code",
   "execution_count": 7,
   "metadata": {},
   "outputs": [
    {
     "data": {
      "image/png": "[encoded data removed]",
      "text/plain": [
       "<Figure size 432x288 with 9 Axes>"
      ]
     },
     "metadata": {
      "needs_background": "light"
     },
     "output_type": "display_data"
    }
   ],
   "source": [
    "tup_x = []\n",
    "tup_y = []\n",
    "\n",
    "for i in range(4):\n",
    "    tmp_x, tmp_y = aug(x,Y,5000) \n",
    "    tup_x.append(tmp_x)\n",
    "    tup_y.append(tmp_y)\n",
    "    \n",
    "x_aug = np.concatenate(tup_x)\n",
    "y_aug = np.concatenate(tup_y)"
   ]
  },
  {
   "cell_type": "markdown",
   "metadata": {},
   "source": [
    "# Split et Création du modèle"
   ]
  },
  {
   "cell_type": "code",
   "execution_count": 8,
   "metadata": {},
   "outputs": [
    {
     "data": {
      "text/plain": [
       "((8248, 64, 64, 1), (8248, 10))"
      ]
     },
     "execution_count": 8,
     "metadata": {},
     "output_type": "execute_result"
    }
   ],
   "source": [
    "x_aug.shape,y_aug.shape"
   ]
  },
  {
   "cell_type": "code",
   "execution_count": 9,
   "metadata": {},
   "outputs": [],
   "source": [
    "X_train, X_test, y_train, y_test = train_test_split(x_aug, y_aug, test_size=0.3, random_state=42)"
   ]
  },
  {
   "cell_type": "code",
   "execution_count": 10,
   "metadata": {},
   "outputs": [],
   "source": [
    "def create_cnn_classifier():\n",
    "    \n",
    "    model = Sequential()\n",
    "    \n",
    "    #etape 1 convolution\n",
    "    model.add(Conv2D(16,(3,3),strides=1,input_shape=(64, 64, 1), activation=\"relu\"))\n",
    "    model.add(MaxPooling2D(pool_size=(2,2)))\n",
    "    \n",
    "    #etape 2 couche sup\n",
    "    model.add(Conv2D(16,(3,3),strides=1, activation=\"relu\"))\n",
    "    model.add(MaxPooling2D(pool_size=(2,2)))\n",
    "    model.add(Dropout(0.1))\n",
    "\n",
    "    model.add(Conv2D(8,(3,3),strides=1, activation=\"relu\"))\n",
    "    model.add(MaxPooling2D(pool_size=(2,2)))\n",
    "    \n",
    "    #etape 4 flattening\n",
    "    model.add(Flatten())\n",
    "    \n",
    "    #etape 5 reseau connecté\n",
    "    model.add(Dense(16, activation=\"relu\"))\n",
    "    model.add(Dropout(0.1))\n",
    "    model.add(Dense(10, activation=\"softmax\"))\n",
    "\n",
    "    model.compile(loss='categorical_crossentropy', optimizer='nadam', metrics=['accuracy'])  \n",
    "    return model   "
   ]
  },
  {
   "cell_type": "code",
   "execution_count": 11,
   "metadata": {},
   "outputs": [],
   "source": [
    "model = create_cnn_classifier()"
   ]
  },
  {
   "cell_type": "markdown",
   "metadata": {},
   "source": [
    "\n",
    "# Entrainement du modèle"
   ]
  },
  {
   "cell_type": "code",
   "execution_count": 12,
   "metadata": {
    "scrolled": true
   },
   "outputs": [
    {
     "name": "stdout",
     "output_type": "stream",
     "text": [
      "Train on 5773 samples, validate on 2475 samples\n",
      "Epoch 1/100\n",
      "5773/5773 [==============================] - 28s 5ms/step - loss: 1.6039 - accuracy: 0.4254 - val_loss: 1.0237 - val_accuracy: 0.6380\n",
      "Epoch 2/100\n",
      "5773/5773 [==============================] - 24s 4ms/step - loss: 0.9573 - accuracy: 0.6652 - val_loss: 0.7452 - val_accuracy: 0.7394\n",
      "Epoch 3/100\n",
      "5773/5773 [==============================] - 27s 5ms/step - loss: 0.7738 - accuracy: 0.7254 - val_loss: 0.5423 - val_accuracy: 0.8174\n",
      "Epoch 4/100\n",
      "5773/5773 [==============================] - 23s 4ms/step - loss: 0.6568 - accuracy: 0.7674 - val_loss: 0.5081 - val_accuracy: 0.8303\n",
      "Epoch 5/100\n",
      "5773/5773 [==============================] - 26s 4ms/step - loss: 0.5752 - accuracy: 0.7946 - val_loss: 0.4927 - val_accuracy: 0.8477\n",
      "Epoch 6/100\n",
      "5773/5773 [==============================] - 23s 4ms/step - loss: 0.5282 - accuracy: 0.8081 - val_loss: 0.4000 - val_accuracy: 0.8760\n",
      "Epoch 7/100\n",
      "5773/5773 [==============================] - 25s 4ms/step - loss: 0.4898 - accuracy: 0.8240 - val_loss: 0.4188 - val_accuracy: 0.8703\n",
      "Epoch 8/100\n",
      "5773/5773 [==============================] - 26s 4ms/step - loss: 0.4797 - accuracy: 0.8259 - val_loss: 0.3841 - val_accuracy: 0.8784\n",
      "Epoch 9/100\n",
      "5773/5773 [==============================] - 23s 4ms/step - loss: 0.4209 - accuracy: 0.8455 - val_loss: 0.3902 - val_accuracy: 0.8913\n",
      "Epoch 10/100\n",
      "5773/5773 [==============================] - 26s 4ms/step - loss: 0.4189 - accuracy: 0.8502 - val_loss: 0.3381 - val_accuracy: 0.8978\n",
      "Epoch 11/100\n",
      "5773/5773 [==============================] - 25s 4ms/step - loss: 0.3953 - accuracy: 0.8626 - val_loss: 0.3539 - val_accuracy: 0.8881\n",
      "Epoch 12/100\n",
      "5773/5773 [==============================] - 21s 4ms/step - loss: 0.3630 - accuracy: 0.8720 - val_loss: 0.3773 - val_accuracy: 0.8889\n",
      "Epoch 13/100\n",
      "5773/5773 [==============================] - 25s 4ms/step - loss: 0.3564 - accuracy: 0.8763 - val_loss: 0.3409 - val_accuracy: 0.8982\n",
      "Epoch 14/100\n",
      "5773/5773 [==============================] - 23s 4ms/step - loss: 0.3503 - accuracy: 0.8779 - val_loss: 0.3315 - val_accuracy: 0.9067\n",
      "Epoch 15/100\n",
      "5773/5773 [==============================] - 27s 5ms/step - loss: 0.3180 - accuracy: 0.8834 - val_loss: 0.3069 - val_accuracy: 0.9055\n",
      "Epoch 16/100\n",
      "5773/5773 [==============================] - 22s 4ms/step - loss: 0.3156 - accuracy: 0.8867 - val_loss: 0.3601 - val_accuracy: 0.9026\n",
      "Epoch 17/100\n",
      "5773/5773 [==============================] - 22s 4ms/step - loss: 0.3159 - accuracy: 0.8864 - val_loss: 0.3805 - val_accuracy: 0.9014\n",
      "Epoch 18/100\n",
      "5773/5773 [==============================] - 20s 3ms/step - loss: 0.2926 - accuracy: 0.8936 - val_loss: 0.3331 - val_accuracy: 0.8990\n",
      "Epoch 19/100\n",
      "5773/5773 [==============================] - 26s 5ms/step - loss: 0.2787 - accuracy: 0.9013 - val_loss: 0.3707 - val_accuracy: 0.8982\n",
      "Epoch 20/100\n",
      "5773/5773 [==============================] - 14s 2ms/step - loss: 0.2792 - accuracy: 0.9039 - val_loss: 0.3120 - val_accuracy: 0.9143\n",
      "Epoch 21/100\n",
      "5773/5773 [==============================] - 16s 3ms/step - loss: 0.2674 - accuracy: 0.9096 - val_loss: 0.2718 - val_accuracy: 0.9293\n",
      "Epoch 22/100\n",
      "5773/5773 [==============================] - 28s 5ms/step - loss: 0.2628 - accuracy: 0.9037 - val_loss: 0.3427 - val_accuracy: 0.9103\n",
      "Epoch 23/100\n",
      "5773/5773 [==============================] - 24s 4ms/step - loss: 0.2536 - accuracy: 0.9089 - val_loss: 0.3308 - val_accuracy: 0.9180\n",
      "Epoch 24/100\n",
      "5773/5773 [==============================] - 27s 5ms/step - loss: 0.2575 - accuracy: 0.9080 - val_loss: 0.2970 - val_accuracy: 0.9253\n",
      "Epoch 25/100\n",
      "5773/5773 [==============================] - 26s 4ms/step - loss: 0.2288 - accuracy: 0.9170 - val_loss: 0.2915 - val_accuracy: 0.9180\n",
      "Epoch 26/100\n",
      "5773/5773 [==============================] - 28s 5ms/step - loss: 0.2593 - accuracy: 0.9111 - val_loss: 0.3348 - val_accuracy: 0.9099\n",
      "Epoch 27/100\n",
      "5773/5773 [==============================] - 28s 5ms/step - loss: 0.2376 - accuracy: 0.9188 - val_loss: 0.3328 - val_accuracy: 0.9164\n",
      "Epoch 28/100\n",
      "5773/5773 [==============================] - 29s 5ms/step - loss: 0.2392 - accuracy: 0.9125 - val_loss: 0.2933 - val_accuracy: 0.9208\n",
      "Epoch 29/100\n",
      "5773/5773 [==============================] - 28s 5ms/step - loss: 0.2095 - accuracy: 0.9272 - val_loss: 0.3198 - val_accuracy: 0.9220\n",
      "Epoch 30/100\n",
      "5773/5773 [==============================] - 26s 5ms/step - loss: 0.2450 - accuracy: 0.9139 - val_loss: 0.3027 - val_accuracy: 0.9220\n",
      "Epoch 31/100\n",
      "5773/5773 [==============================] - 22s 4ms/step - loss: 0.2059 - accuracy: 0.9290 - val_loss: 0.2813 - val_accuracy: 0.9345\n",
      "Epoch 32/100\n",
      "5773/5773 [==============================] - 27s 5ms/step - loss: 0.2092 - accuracy: 0.9297 - val_loss: 0.2990 - val_accuracy: 0.9248\n",
      "Epoch 33/100\n",
      "5773/5773 [==============================] - 24s 4ms/step - loss: 0.2102 - accuracy: 0.9272 - val_loss: 0.3362 - val_accuracy: 0.9188\n",
      "Epoch 34/100\n",
      "5773/5773 [==============================] - 18s 3ms/step - loss: 0.2246 - accuracy: 0.9198 - val_loss: 0.3556 - val_accuracy: 0.9103\n",
      "Epoch 35/100\n",
      "5773/5773 [==============================] - 22s 4ms/step - loss: 0.2119 - accuracy: 0.9227 - val_loss: 0.3514 - val_accuracy: 0.9172\n",
      "Epoch 36/100\n",
      "5773/5773 [==============================] - 25s 4ms/step - loss: 0.2160 - accuracy: 0.9226 - val_loss: 0.3710 - val_accuracy: 0.9164\n",
      "Epoch 37/100\n",
      "5773/5773 [==============================] - 22s 4ms/step - loss: 0.2320 - accuracy: 0.9175 - val_loss: 0.3573 - val_accuracy: 0.9196\n",
      "Epoch 38/100\n",
      "5773/5773 [==============================] - 24s 4ms/step - loss: 0.2119 - accuracy: 0.9281 - val_loss: 0.3277 - val_accuracy: 0.9273\n",
      "Epoch 39/100\n",
      "5773/5773 [==============================] - 24s 4ms/step - loss: 0.2280 - accuracy: 0.9214 - val_loss: 0.3213 - val_accuracy: 0.9240\n",
      "Epoch 40/100\n",
      "5773/5773 [==============================] - 22s 4ms/step - loss: 0.1922 - accuracy: 0.9293 - val_loss: 0.3252 - val_accuracy: 0.9257\n",
      "Epoch 41/100\n",
      "5773/5773 [==============================] - 21s 4ms/step - loss: 0.1932 - accuracy: 0.9333 - val_loss: 0.2848 - val_accuracy: 0.9349\n",
      "Epoch 42/100\n",
      "5773/5773 [==============================] - 22s 4ms/step - loss: 0.1825 - accuracy: 0.9361 - val_loss: 0.3622 - val_accuracy: 0.9216\n",
      "Epoch 43/100\n",
      "5773/5773 [==============================] - 27s 5ms/step - loss: 0.1977 - accuracy: 0.9318 - val_loss: 0.2887 - val_accuracy: 0.9325\n",
      "Epoch 44/100\n",
      "5773/5773 [==============================] - 27s 5ms/step - loss: 0.1945 - accuracy: 0.9340 - val_loss: 0.3827 - val_accuracy: 0.9168\n",
      "Epoch 45/100\n",
      "5773/5773 [==============================] - 29s 5ms/step - loss: 0.2036 - accuracy: 0.9292 - val_loss: 0.3243 - val_accuracy: 0.9172\n",
      "Epoch 46/100\n",
      "5773/5773 [==============================] - 22s 4ms/step - loss: 0.1964 - accuracy: 0.9297 - val_loss: 0.3198 - val_accuracy: 0.9228\n",
      "Epoch 47/100\n",
      "5773/5773 [==============================] - 26s 4ms/step - loss: 0.1994 - accuracy: 0.9343 - val_loss: 0.3296 - val_accuracy: 0.9277\n",
      "Epoch 48/100\n",
      "5773/5773 [==============================] - 22s 4ms/step - loss: 0.1905 - accuracy: 0.9376 - val_loss: 0.3699 - val_accuracy: 0.9139\n",
      "Epoch 49/100\n",
      "5773/5773 [==============================] - 23s 4ms/step - loss: 0.1886 - accuracy: 0.9354 - val_loss: 0.3487 - val_accuracy: 0.9127\n",
      "Epoch 50/100\n",
      "5773/5773 [==============================] - 26s 4ms/step - loss: 0.2025 - accuracy: 0.9286 - val_loss: 0.3161 - val_accuracy: 0.9317\n",
      "Epoch 51/100\n",
      "5773/5773 [==============================] - 22s 4ms/step - loss: 0.1894 - accuracy: 0.9366 - val_loss: 0.4000 - val_accuracy: 0.9095\n",
      "Epoch 52/100\n",
      "5773/5773 [==============================] - 27s 5ms/step - loss: 0.2014 - accuracy: 0.9345 - val_loss: 0.3229 - val_accuracy: 0.9305\n",
      "Epoch 53/100\n",
      "5773/5773 [==============================] - 26s 4ms/step - loss: 0.1951 - accuracy: 0.9326 - val_loss: 0.3570 - val_accuracy: 0.9317\n",
      "Epoch 54/100\n",
      "5773/5773 [==============================] - 28s 5ms/step - loss: 0.1825 - accuracy: 0.9368 - val_loss: 0.3611 - val_accuracy: 0.9261\n",
      "Epoch 55/100\n",
      "5773/5773 [==============================] - 23s 4ms/step - loss: 0.2026 - accuracy: 0.9331 - val_loss: 0.3520 - val_accuracy: 0.9196\n",
      "Epoch 56/100\n"
     ]
    },
    {
     "name": "stdout",
     "output_type": "stream",
     "text": [
      "5773/5773 [==============================] - 15s 3ms/step - loss: 0.1923 - accuracy: 0.9318 - val_loss: 0.3323 - val_accuracy: 0.9285\n",
      "Epoch 57/100\n",
      "5773/5773 [==============================] - 16s 3ms/step - loss: 0.1843 - accuracy: 0.9375 - val_loss: 0.3470 - val_accuracy: 0.9269\n",
      "Epoch 58/100\n",
      "5773/5773 [==============================] - 27s 5ms/step - loss: 0.1949 - accuracy: 0.9356 - val_loss: 0.3465 - val_accuracy: 0.9240\n",
      "Epoch 59/100\n",
      "5773/5773 [==============================] - 26s 4ms/step - loss: 0.1804 - accuracy: 0.9408 - val_loss: 0.3777 - val_accuracy: 0.9333\n",
      "Epoch 60/100\n",
      "5773/5773 [==============================] - 16s 3ms/step - loss: 0.1663 - accuracy: 0.9465 - val_loss: 0.2974 - val_accuracy: 0.9349\n",
      "Epoch 61/100\n",
      "5773/5773 [==============================] - 22s 4ms/step - loss: 0.1738 - accuracy: 0.9397 - val_loss: 0.3548 - val_accuracy: 0.9200\n",
      "Epoch 62/100\n",
      "5773/5773 [==============================] - 20s 4ms/step - loss: 0.1673 - accuracy: 0.9447 - val_loss: 0.3570 - val_accuracy: 0.9224\n",
      "Epoch 63/100\n",
      "5773/5773 [==============================] - 19s 3ms/step - loss: 0.1688 - accuracy: 0.9430 - val_loss: 0.3662 - val_accuracy: 0.9216\n",
      "Epoch 64/100\n",
      "5773/5773 [==============================] - 18s 3ms/step - loss: 0.1718 - accuracy: 0.9440 - val_loss: 0.3232 - val_accuracy: 0.9313\n",
      "Epoch 65/100\n",
      "5773/5773 [==============================] - 25s 4ms/step - loss: 0.1640 - accuracy: 0.9408 - val_loss: 0.4278 - val_accuracy: 0.9139\n",
      "Epoch 66/100\n",
      "5773/5773 [==============================] - 15s 3ms/step - loss: 0.1773 - accuracy: 0.9394 - val_loss: 0.4109 - val_accuracy: 0.9156\n",
      "Epoch 67/100\n",
      "5773/5773 [==============================] - 21s 4ms/step - loss: 0.1891 - accuracy: 0.9389 - val_loss: 0.3280 - val_accuracy: 0.9135\n",
      "Epoch 68/100\n",
      "5773/5773 [==============================] - 18s 3ms/step - loss: 0.1646 - accuracy: 0.9428 - val_loss: 0.3804 - val_accuracy: 0.9269\n",
      "Epoch 69/100\n",
      "5773/5773 [==============================] - 24s 4ms/step - loss: 0.1645 - accuracy: 0.9447 - val_loss: 0.3762 - val_accuracy: 0.9220\n",
      "Epoch 70/100\n",
      "5773/5773 [==============================] - 26s 5ms/step - loss: 0.1868 - accuracy: 0.9349 - val_loss: 0.3619 - val_accuracy: 0.9253\n",
      "Epoch 71/100\n",
      "5773/5773 [==============================] - 19s 3ms/step - loss: 0.1666 - accuracy: 0.9439 - val_loss: 0.2920 - val_accuracy: 0.9305\n",
      "Epoch 72/100\n",
      "5773/5773 [==============================] - 10s 2ms/step - loss: 0.1760 - accuracy: 0.9385 - val_loss: 0.3896 - val_accuracy: 0.9244\n",
      "Epoch 73/100\n",
      "5773/5773 [==============================] - 10s 2ms/step - loss: 0.1830 - accuracy: 0.9383 - val_loss: 0.3228 - val_accuracy: 0.9358\n",
      "Epoch 74/100\n",
      "5773/5773 [==============================] - 10s 2ms/step - loss: 0.1919 - accuracy: 0.9359 - val_loss: 0.4061 - val_accuracy: 0.9269\n",
      "Epoch 75/100\n",
      "5773/5773 [==============================] - 10s 2ms/step - loss: 0.1957 - accuracy: 0.9345 - val_loss: 0.3200 - val_accuracy: 0.9354\n",
      "Epoch 76/100\n",
      "5773/5773 [==============================] - 10s 2ms/step - loss: 0.1572 - accuracy: 0.9473 - val_loss: 0.3424 - val_accuracy: 0.9240\n",
      "Epoch 77/100\n",
      "5773/5773 [==============================] - 10s 2ms/step - loss: 0.1785 - accuracy: 0.9413 - val_loss: 0.3123 - val_accuracy: 0.9273\n",
      "Epoch 78/100\n",
      "5773/5773 [==============================] - 10s 2ms/step - loss: 0.1641 - accuracy: 0.9425 - val_loss: 0.3304 - val_accuracy: 0.9240\n",
      "Epoch 79/100\n",
      "5773/5773 [==============================] - 10s 2ms/step - loss: 0.1574 - accuracy: 0.9451 - val_loss: 0.2995 - val_accuracy: 0.9325\n",
      "Epoch 80/100\n",
      "5773/5773 [==============================] - 10s 2ms/step - loss: 0.1644 - accuracy: 0.9439 - val_loss: 0.3557 - val_accuracy: 0.9277\n",
      "Epoch 81/100\n",
      "5773/5773 [==============================] - 10s 2ms/step - loss: 0.1486 - accuracy: 0.9525 - val_loss: 0.3521 - val_accuracy: 0.9297\n",
      "Epoch 82/100\n",
      "5773/5773 [==============================] - 10s 2ms/step - loss: 0.1632 - accuracy: 0.9479 - val_loss: 0.3335 - val_accuracy: 0.9329\n",
      "Epoch 83/100\n",
      "5773/5773 [==============================] - 10s 2ms/step - loss: 0.1704 - accuracy: 0.9446 - val_loss: 0.3410 - val_accuracy: 0.9265\n",
      "Epoch 84/100\n",
      "5773/5773 [==============================] - 10s 2ms/step - loss: 0.1600 - accuracy: 0.9423 - val_loss: 0.3242 - val_accuracy: 0.9281\n",
      "Epoch 85/100\n",
      "5773/5773 [==============================] - 10s 2ms/step - loss: 0.1498 - accuracy: 0.9484 - val_loss: 0.3632 - val_accuracy: 0.9285\n",
      "Epoch 86/100\n",
      "5773/5773 [==============================] - 10s 2ms/step - loss: 0.1811 - accuracy: 0.9385 - val_loss: 0.3765 - val_accuracy: 0.9297\n",
      "Epoch 87/100\n",
      "5773/5773 [==============================] - 10s 2ms/step - loss: 0.1655 - accuracy: 0.9480 - val_loss: 0.3815 - val_accuracy: 0.9228\n",
      "Epoch 88/100\n",
      "5773/5773 [==============================] - 21s 4ms/step - loss: 0.1526 - accuracy: 0.9491 - val_loss: 0.3734 - val_accuracy: 0.9297\n",
      "Epoch 89/100\n",
      "5773/5773 [==============================] - 30s 5ms/step - loss: 0.1693 - accuracy: 0.9432 - val_loss: 0.3817 - val_accuracy: 0.9095\n",
      "Epoch 90/100\n",
      "5773/5773 [==============================] - 25s 4ms/step - loss: 0.1541 - accuracy: 0.9472 - val_loss: 0.3259 - val_accuracy: 0.9313\n",
      "Epoch 91/100\n",
      "5773/5773 [==============================] - 25s 4ms/step - loss: 0.1746 - accuracy: 0.9418 - val_loss: 0.3182 - val_accuracy: 0.9390\n",
      "Epoch 92/100\n",
      "5773/5773 [==============================] - 27s 5ms/step - loss: 0.1501 - accuracy: 0.9487 - val_loss: 0.3512 - val_accuracy: 0.9305\n",
      "Epoch 93/100\n",
      "5773/5773 [==============================] - 25s 4ms/step - loss: 0.1682 - accuracy: 0.9434 - val_loss: 0.3609 - val_accuracy: 0.9289\n",
      "Epoch 94/100\n",
      "5773/5773 [==============================] - 25s 4ms/step - loss: 0.1676 - accuracy: 0.9454 - val_loss: 0.3650 - val_accuracy: 0.9285\n",
      "Epoch 95/100\n",
      "5773/5773 [==============================] - 23s 4ms/step - loss: 0.1592 - accuracy: 0.9466 - val_loss: 0.4855 - val_accuracy: 0.9087\n",
      "Epoch 96/100\n",
      "5773/5773 [==============================] - 24s 4ms/step - loss: 0.1599 - accuracy: 0.9480 - val_loss: 0.4160 - val_accuracy: 0.9236\n",
      "Epoch 97/100\n",
      "5773/5773 [==============================] - 22s 4ms/step - loss: 0.1745 - accuracy: 0.9409 - val_loss: 0.3921 - val_accuracy: 0.9244\n",
      "Epoch 98/100\n",
      "5773/5773 [==============================] - 27s 5ms/step - loss: 0.1526 - accuracy: 0.9487 - val_loss: 0.3774 - val_accuracy: 0.9293\n",
      "Epoch 99/100\n",
      "5773/5773 [==============================] - 12s 2ms/step - loss: 0.1566 - accuracy: 0.9456 - val_loss: 0.3887 - val_accuracy: 0.9192\n",
      "Epoch 100/100\n",
      "5773/5773 [==============================] - 23s 4ms/step - loss: 0.1631 - accuracy: 0.9446 - val_loss: 0.3576 - val_accuracy: 0.9309\n"
     ]
    }
   ],
   "source": [
    "history = model.fit(X_train,y_train, epochs=100, batch_size=10, validation_data=(X_test, y_test))"
   ]
  },
  {
   "cell_type": "code",
   "execution_count": 13,
   "metadata": {},
   "outputs": [
    {
     "name": "stdout",
     "output_type": "stream",
     "text": [
      "Model: \"sequential_1\"\n",
      "_________________________________________________________________\n",
      "Layer (type)                 Output Shape              Param #   \n",
      "=================================================================\n",
      "conv2d_1 (Conv2D)            (None, 62, 62, 16)        160       \n",
      "_________________________________________________________________\n",
      "max_pooling2d_1 (MaxPooling2 (None, 31, 31, 16)        0         \n",
      "_________________________________________________________________\n",
      "conv2d_2 (Conv2D)            (None, 29, 29, 16)        2320      \n",
      "_________________________________________________________________\n",
      "max_pooling2d_2 (MaxPooling2 (None, 14, 14, 16)        0         \n",
      "_________________________________________________________________\n",
      "dropout_1 (Dropout)          (None, 14, 14, 16)        0         \n",
      "_________________________________________________________________\n",
      "conv2d_3 (Conv2D)            (None, 12, 12, 8)         1160      \n",
      "_________________________________________________________________\n",
      "max_pooling2d_3 (MaxPooling2 (None, 6, 6, 8)           0         \n",
      "_________________________________________________________________\n",
      "flatten_1 (Flatten)          (None, 288)               0         \n",
      "_________________________________________________________________\n",
      "dense_1 (Dense)              (None, 16)                4624      \n",
      "_________________________________________________________________\n",
      "dropout_2 (Dropout)          (None, 16)                0         \n",
      "_________________________________________________________________\n",
      "dense_2 (Dense)              (None, 10)                170       \n",
      "=================================================================\n",
      "Total params: 8,434\n",
      "Trainable params: 8,434\n",
      "Non-trainable params: 0\n",
      "_________________________________________________________________\n"
     ]
    }
   ],
   "source": [
    "model.summary()"
   ]
  },
  {
   "cell_type": "code",
   "execution_count": 14,
   "metadata": {},
   "outputs": [
    {
     "data": {
      "image/png": "[encoded data removed]",
      "text/plain": [
       "<Figure size 432x288 with 1 Axes>"
      ]
     },
     "metadata": {
      "needs_background": "light"
     },
     "output_type": "display_data"
    }
   ],
   "source": [
    "def hist_foll(metrics):\n",
    "    plt.plot(history.history[f'{metrics}'])\n",
    "    plt.plot(history.history[f\"val_{metrics}\"])\n",
    "    plt.grid = True\n",
    "    plt.title(f'Model {metrics}')\n",
    "    plt.ylabel(f'{metrics}')\n",
    "    plt.xlabel('epoch')\n",
    "    plt.legend(['train', 'test'], loc='upper right')\n",
    "    plt.show\n",
    "\n",
    "hist_foll('accuracy')"
   ]
  },
  {
   "cell_type": "markdown",
   "metadata": {},
   "source": [
    "# Evaluation du modèle"
   ]
  },
  {
   "cell_type": "code",
   "execution_count": 15,
   "metadata": {},
   "outputs": [],
   "source": [
    "pred = model.predict(X_test)"
   ]
  },
  {
   "cell_type": "code",
   "execution_count": 16,
   "metadata": {},
   "outputs": [],
   "source": [
    "y_test = y_test.argmax(axis=1)\n",
    "pred_re = pred.argmax(axis=1)"
   ]
  },
  {
   "cell_type": "code",
   "execution_count": 17,
   "metadata": {},
   "outputs": [
    {
     "name": "stdout",
     "output_type": "stream",
     "text": [
      "0.9309090909090909\n"
     ]
    }
   ],
   "source": [
    "print(accuracy_score(y_test, pred_re))"
   ]
  },
  {
   "cell_type": "code",
   "execution_count": 18,
   "metadata": {},
   "outputs": [
    {
     "data": {
      "image/png": "[encoded data removed]",
      "text/plain": [
       "<Figure size 720x720 with 2 Axes>"
      ]
     },
     "metadata": {
      "needs_background": "light"
     },
     "output_type": "display_data"
    }
   ],
   "source": [
    "plt.figure(figsize=(10,10))\n",
    "conf = confusion_matrix(y_test,pred_re)\n",
    "# df = DataFrame(data=conf)\n",
    "ax = sns.heatmap(conf,fmt=\".1f\",annot=True, linewidths=.9,cmap=\"YlGnBu\")\n"
   ]
  },
  {
   "cell_type": "markdown",
   "metadata": {},
   "source": [
    "# StratifiedKFold"
   ]
  },
  {
   "cell_type": "code",
   "execution_count": 19,
   "metadata": {},
   "outputs": [],
   "source": [
    "seed = 69\n",
    "np.random.seed(seed)\n",
    "# define 7-fold cross validation test harness\n",
    "kfold = StratifiedKFold(n_splits=7, shuffle=True, random_state=seed)\n",
    "cvscores = []"
   ]
  },
  {
   "cell_type": "code",
   "execution_count": 24,
   "metadata": {
    "scrolled": true
   },
   "outputs": [
    {
     "name": "stdout",
     "output_type": "stream",
     "text": [
      "Train on 7065 samples, validate on 1183 samples\n",
      "Epoch 1/30\n",
      "7065/7065 [==============================] - 27s 4ms/step - loss: 1.4259 - accuracy: 0.4822 - val_loss: 0.8043 - val_accuracy: 0.7278\n",
      "Epoch 2/30\n",
      "7065/7065 [==============================] - 25s 3ms/step - loss: 0.8051 - accuracy: 0.7130 - val_loss: 0.6485 - val_accuracy: 0.7870\n",
      "Epoch 3/30\n",
      "7065/7065 [==============================] - 25s 3ms/step - loss: 0.6448 - accuracy: 0.7721 - val_loss: 0.4953 - val_accuracy: 0.8436\n",
      "Epoch 4/30\n",
      "7065/7065 [==============================] - 25s 3ms/step - loss: 0.5502 - accuracy: 0.8065 - val_loss: 0.4187 - val_accuracy: 0.8698\n",
      "Epoch 5/30\n",
      "7065/7065 [==============================] - 24s 3ms/step - loss: 0.4836 - accuracy: 0.8285 - val_loss: 0.4255 - val_accuracy: 0.8504\n",
      "Epoch 6/30\n",
      "7065/7065 [==============================] - 25s 3ms/step - loss: 0.4384 - accuracy: 0.8440 - val_loss: 0.3703 - val_accuracy: 0.8749\n",
      "Epoch 7/30\n",
      "7065/7065 [==============================] - 25s 3ms/step - loss: 0.4107 - accuracy: 0.8529 - val_loss: 0.3586 - val_accuracy: 0.8842\n",
      "Epoch 8/30\n",
      "7065/7065 [==============================] - 25s 4ms/step - loss: 0.3786 - accuracy: 0.8723 - val_loss: 0.3308 - val_accuracy: 0.9087\n",
      "Epoch 9/30\n",
      "7065/7065 [==============================] - 25s 3ms/step - loss: 0.3540 - accuracy: 0.8767 - val_loss: 0.3116 - val_accuracy: 0.9104\n",
      "Epoch 10/30\n",
      "7065/7065 [==============================] - 25s 4ms/step - loss: 0.3476 - accuracy: 0.8736 - val_loss: 0.2787 - val_accuracy: 0.9205\n",
      "Epoch 11/30\n",
      "7065/7065 [==============================] - 25s 4ms/step - loss: 0.3266 - accuracy: 0.8913 - val_loss: 0.3067 - val_accuracy: 0.9180\n",
      "Epoch 12/30\n",
      "7065/7065 [==============================] - 25s 4ms/step - loss: 0.3116 - accuracy: 0.8910 - val_loss: 0.3262 - val_accuracy: 0.9028\n",
      "Epoch 13/30\n",
      "7065/7065 [==============================] - 25s 4ms/step - loss: 0.3021 - accuracy: 0.8967 - val_loss: 0.3042 - val_accuracy: 0.9104\n",
      "Epoch 14/30\n",
      "7065/7065 [==============================] - 25s 3ms/step - loss: 0.3021 - accuracy: 0.8929 - val_loss: 0.3836 - val_accuracy: 0.8876\n",
      "Epoch 15/30\n",
      "7065/7065 [==============================] - 25s 3ms/step - loss: 0.2950 - accuracy: 0.9012 - val_loss: 0.2855 - val_accuracy: 0.9172\n",
      "Epoch 16/30\n",
      "7065/7065 [==============================] - 25s 3ms/step - loss: 0.2824 - accuracy: 0.9029 - val_loss: 0.3062 - val_accuracy: 0.9087\n",
      "Epoch 17/30\n",
      "7065/7065 [==============================] - 25s 3ms/step - loss: 0.2705 - accuracy: 0.9030 - val_loss: 0.3038 - val_accuracy: 0.9079\n",
      "Epoch 18/30\n",
      "7065/7065 [==============================] - 25s 4ms/step - loss: 0.2782 - accuracy: 0.9063 - val_loss: 0.2677 - val_accuracy: 0.9281\n",
      "Epoch 19/30\n",
      "7065/7065 [==============================] - 25s 4ms/step - loss: 0.2525 - accuracy: 0.9148 - val_loss: 0.3020 - val_accuracy: 0.9256\n",
      "Epoch 20/30\n",
      "7065/7065 [==============================] - 25s 4ms/step - loss: 0.2571 - accuracy: 0.9120 - val_loss: 0.3131 - val_accuracy: 0.9062\n",
      "Epoch 21/30\n",
      "7065/7065 [==============================] - 25s 3ms/step - loss: 0.2549 - accuracy: 0.9100 - val_loss: 0.3197 - val_accuracy: 0.9180\n",
      "Epoch 22/30\n",
      "7065/7065 [==============================] - 25s 4ms/step - loss: 0.2405 - accuracy: 0.9165 - val_loss: 0.2925 - val_accuracy: 0.9189\n",
      "Epoch 23/30\n",
      "7065/7065 [==============================] - 25s 4ms/step - loss: 0.2327 - accuracy: 0.9196 - val_loss: 0.3088 - val_accuracy: 0.9205\n",
      "Epoch 24/30\n",
      "7065/7065 [==============================] - 25s 4ms/step - loss: 0.2212 - accuracy: 0.9250 - val_loss: 0.2690 - val_accuracy: 0.9265\n",
      "Epoch 25/30\n",
      "7065/7065 [==============================] - 25s 4ms/step - loss: 0.2343 - accuracy: 0.9188 - val_loss: 0.2999 - val_accuracy: 0.9155\n",
      "Epoch 26/30\n",
      "7065/7065 [==============================] - 25s 3ms/step - loss: 0.2288 - accuracy: 0.9260 - val_loss: 0.3101 - val_accuracy: 0.9189\n",
      "Epoch 27/30\n",
      "7065/7065 [==============================] - 25s 4ms/step - loss: 0.2217 - accuracy: 0.9246 - val_loss: 0.3493 - val_accuracy: 0.9138\n",
      "Epoch 28/30\n",
      "7065/7065 [==============================] - 25s 3ms/step - loss: 0.2407 - accuracy: 0.9193 - val_loss: 0.2737 - val_accuracy: 0.9332\n",
      "Epoch 29/30\n",
      "7065/7065 [==============================] - 25s 4ms/step - loss: 0.2219 - accuracy: 0.9247 - val_loss: 0.3074 - val_accuracy: 0.9205\n",
      "Epoch 30/30\n",
      "7065/7065 [==============================] - 25s 4ms/step - loss: 0.2091 - accuracy: 0.9289 - val_loss: 0.2739 - val_accuracy: 0.9281\n",
      "step : 1\n",
      "accuracy: 92.81%\n",
      "Train on 7066 samples, validate on 1182 samples\n",
      "Epoch 1/30\n",
      "7066/7066 [==============================] - 27s 4ms/step - loss: 1.5926 - accuracy: 0.4168 - val_loss: 0.9135 - val_accuracy: 0.6861\n",
      "Epoch 2/30\n",
      "7066/7066 [==============================] - 25s 4ms/step - loss: 0.8877 - accuracy: 0.6783 - val_loss: 0.6798 - val_accuracy: 0.7665\n",
      "Epoch 3/30\n",
      "7066/7066 [==============================] - 24s 3ms/step - loss: 0.6934 - accuracy: 0.7545 - val_loss: 0.6111 - val_accuracy: 0.7944\n",
      "Epoch 4/30\n",
      "7066/7066 [==============================] - 24s 3ms/step - loss: 0.6033 - accuracy: 0.7888 - val_loss: 0.5023 - val_accuracy: 0.8426\n",
      "Epoch 5/30\n",
      "7066/7066 [==============================] - 24s 3ms/step - loss: 0.5511 - accuracy: 0.8043 - val_loss: 0.4652 - val_accuracy: 0.8545\n",
      "Epoch 6/30\n",
      "7066/7066 [==============================] - 24s 3ms/step - loss: 0.4915 - accuracy: 0.8181 - val_loss: 0.4185 - val_accuracy: 0.8689\n",
      "Epoch 7/30\n",
      "7066/7066 [==============================] - 24s 3ms/step - loss: 0.4766 - accuracy: 0.8306 - val_loss: 0.3957 - val_accuracy: 0.8765\n",
      "Epoch 8/30\n",
      "7066/7066 [==============================] - 24s 3ms/step - loss: 0.4361 - accuracy: 0.8433 - val_loss: 0.3668 - val_accuracy: 0.8816\n",
      "Epoch 9/30\n",
      "7066/7066 [==============================] - 24s 3ms/step - loss: 0.4109 - accuracy: 0.8556 - val_loss: 0.3876 - val_accuracy: 0.8832\n",
      "Epoch 10/30\n",
      "7066/7066 [==============================] - 24s 3ms/step - loss: 0.4062 - accuracy: 0.8510 - val_loss: 0.3515 - val_accuracy: 0.9002\n",
      "Epoch 11/30\n",
      "7066/7066 [==============================] - 24s 3ms/step - loss: 0.3788 - accuracy: 0.8606 - val_loss: 0.3663 - val_accuracy: 0.8968\n",
      "Epoch 12/30\n",
      "7066/7066 [==============================] - 24s 3ms/step - loss: 0.3732 - accuracy: 0.8658 - val_loss: 0.3858 - val_accuracy: 0.8816\n",
      "Epoch 13/30\n",
      "7066/7066 [==============================] - 24s 3ms/step - loss: 0.3505 - accuracy: 0.8750 - val_loss: 0.3171 - val_accuracy: 0.9052\n",
      "Epoch 14/30\n",
      "7066/7066 [==============================] - 24s 3ms/step - loss: 0.3454 - accuracy: 0.8765 - val_loss: 0.3277 - val_accuracy: 0.8993\n",
      "Epoch 15/30\n",
      "7066/7066 [==============================] - 24s 3ms/step - loss: 0.3327 - accuracy: 0.8789 - val_loss: 0.3646 - val_accuracy: 0.8993\n",
      "Epoch 16/30\n",
      "7066/7066 [==============================] - 24s 3ms/step - loss: 0.3322 - accuracy: 0.8806 - val_loss: 0.3733 - val_accuracy: 0.8909\n",
      "Epoch 17/30\n",
      "7066/7066 [==============================] - 24s 3ms/step - loss: 0.3317 - accuracy: 0.8842 - val_loss: 0.3367 - val_accuracy: 0.9112\n",
      "Epoch 18/30\n",
      "7066/7066 [==============================] - 24s 3ms/step - loss: 0.3046 - accuracy: 0.8941 - val_loss: 0.3426 - val_accuracy: 0.9052\n",
      "Epoch 19/30\n",
      "7066/7066 [==============================] - 24s 3ms/step - loss: 0.3118 - accuracy: 0.8878 - val_loss: 0.3559 - val_accuracy: 0.8993\n",
      "Epoch 20/30\n",
      "7066/7066 [==============================] - 24s 3ms/step - loss: 0.2962 - accuracy: 0.8957 - val_loss: 0.4054 - val_accuracy: 0.8926\n",
      "Epoch 21/30\n",
      "7066/7066 [==============================] - 24s 3ms/step - loss: 0.2830 - accuracy: 0.8981 - val_loss: 0.3205 - val_accuracy: 0.9095\n",
      "Epoch 22/30\n",
      "7066/7066 [==============================] - 24s 3ms/step - loss: 0.2904 - accuracy: 0.8977 - val_loss: 0.3993 - val_accuracy: 0.8917\n",
      "Epoch 23/30\n",
      "7066/7066 [==============================] - 24s 3ms/step - loss: 0.2741 - accuracy: 0.9053 - val_loss: 0.3610 - val_accuracy: 0.8917\n",
      "Epoch 24/30\n",
      "7066/7066 [==============================] - 24s 3ms/step - loss: 0.2675 - accuracy: 0.9055 - val_loss: 0.3430 - val_accuracy: 0.9213\n",
      "Epoch 25/30\n",
      "7066/7066 [==============================] - 24s 3ms/step - loss: 0.2624 - accuracy: 0.9113 - val_loss: 0.3789 - val_accuracy: 0.9027\n",
      "Epoch 26/30\n"
     ]
    },
    {
     "name": "stdout",
     "output_type": "stream",
     "text": [
      "7066/7066 [==============================] - 24s 3ms/step - loss: 0.2704 - accuracy: 0.9053 - val_loss: 0.3439 - val_accuracy: 0.9052\n",
      "Epoch 27/30\n",
      "7066/7066 [==============================] - 24s 3ms/step - loss: 0.2531 - accuracy: 0.9118 - val_loss: 0.3811 - val_accuracy: 0.9162\n",
      "Epoch 28/30\n",
      "7066/7066 [==============================] - 24s 3ms/step - loss: 0.2426 - accuracy: 0.9198 - val_loss: 0.3365 - val_accuracy: 0.9179\n",
      "Epoch 29/30\n",
      "7066/7066 [==============================] - 24s 3ms/step - loss: 0.2454 - accuracy: 0.9127 - val_loss: 0.3290 - val_accuracy: 0.9230\n",
      "Epoch 30/30\n",
      "7066/7066 [==============================] - 24s 3ms/step - loss: 0.2496 - accuracy: 0.9127 - val_loss: 0.2921 - val_accuracy: 0.9340\n",
      "step : 2\n",
      "accuracy: 93.40%\n",
      "Train on 7069 samples, validate on 1179 samples\n",
      "Epoch 1/30\n",
      "7069/7069 [==============================] - 26s 4ms/step - loss: 1.5072 - accuracy: 0.4569 - val_loss: 0.8368 - val_accuracy: 0.7303\n",
      "Epoch 2/30\n",
      "7069/7069 [==============================] - 24s 3ms/step - loss: 0.8538 - accuracy: 0.7063 - val_loss: 0.5655 - val_accuracy: 0.8134\n",
      "Epoch 3/30\n",
      "7069/7069 [==============================] - 24s 3ms/step - loss: 0.6717 - accuracy: 0.7640 - val_loss: 0.4472 - val_accuracy: 0.8634\n",
      "Epoch 4/30\n",
      "7069/7069 [==============================] - 24s 3ms/step - loss: 0.5864 - accuracy: 0.7933 - val_loss: 0.4136 - val_accuracy: 0.8660\n",
      "Epoch 5/30\n",
      "7069/7069 [==============================] - 24s 3ms/step - loss: 0.5136 - accuracy: 0.8162 - val_loss: 0.3906 - val_accuracy: 0.8711\n",
      "Epoch 6/30\n",
      "7069/7069 [==============================] - 24s 3ms/step - loss: 0.4657 - accuracy: 0.8314 - val_loss: 0.3833 - val_accuracy: 0.8728\n",
      "Epoch 7/30\n",
      "7069/7069 [==============================] - 24s 3ms/step - loss: 0.4160 - accuracy: 0.8510 - val_loss: 0.3203 - val_accuracy: 0.8889\n",
      "Epoch 8/30\n",
      "7069/7069 [==============================] - 24s 3ms/step - loss: 0.4008 - accuracy: 0.8584 - val_loss: 0.3249 - val_accuracy: 0.8974\n",
      "Epoch 9/30\n",
      "7069/7069 [==============================] - 24s 3ms/step - loss: 0.3596 - accuracy: 0.8740 - val_loss: 0.2818 - val_accuracy: 0.9126\n",
      "Epoch 10/30\n",
      "7069/7069 [==============================] - 24s 3ms/step - loss: 0.3502 - accuracy: 0.8721 - val_loss: 0.2822 - val_accuracy: 0.9092\n",
      "Epoch 11/30\n",
      "7069/7069 [==============================] - 24s 3ms/step - loss: 0.3263 - accuracy: 0.8841 - val_loss: 0.2832 - val_accuracy: 0.9042\n",
      "Epoch 12/30\n",
      "7069/7069 [==============================] - 24s 3ms/step - loss: 0.3032 - accuracy: 0.8952 - val_loss: 0.2811 - val_accuracy: 0.9050\n",
      "Epoch 13/30\n",
      "7069/7069 [==============================] - 24s 3ms/step - loss: 0.3123 - accuracy: 0.8914 - val_loss: 0.2526 - val_accuracy: 0.9245\n",
      "Epoch 14/30\n",
      "7069/7069 [==============================] - 24s 3ms/step - loss: 0.2914 - accuracy: 0.9003 - val_loss: 0.2308 - val_accuracy: 0.9304\n",
      "Epoch 15/30\n",
      "7069/7069 [==============================] - 24s 3ms/step - loss: 0.3004 - accuracy: 0.8952 - val_loss: 0.2657 - val_accuracy: 0.9177\n",
      "Epoch 16/30\n",
      "7069/7069 [==============================] - 24s 3ms/step - loss: 0.2840 - accuracy: 0.8994 - val_loss: 0.2497 - val_accuracy: 0.9237\n",
      "Epoch 17/30\n",
      "7069/7069 [==============================] - 24s 3ms/step - loss: 0.2752 - accuracy: 0.8998 - val_loss: 0.2351 - val_accuracy: 0.9254\n",
      "Epoch 18/30\n",
      "7069/7069 [==============================] - 24s 3ms/step - loss: 0.2692 - accuracy: 0.9052 - val_loss: 0.2475 - val_accuracy: 0.9245\n",
      "Epoch 19/30\n",
      "7069/7069 [==============================] - 24s 3ms/step - loss: 0.2585 - accuracy: 0.9120 - val_loss: 0.2587 - val_accuracy: 0.9177\n",
      "Epoch 20/30\n",
      "7069/7069 [==============================] - 24s 3ms/step - loss: 0.2494 - accuracy: 0.9138 - val_loss: 0.2495 - val_accuracy: 0.9169\n",
      "Epoch 21/30\n",
      "7069/7069 [==============================] - 24s 3ms/step - loss: 0.2642 - accuracy: 0.9086 - val_loss: 0.2490 - val_accuracy: 0.9288\n",
      "Epoch 22/30\n",
      "7069/7069 [==============================] - 24s 3ms/step - loss: 0.2343 - accuracy: 0.9161 - val_loss: 0.2713 - val_accuracy: 0.9203\n",
      "Epoch 23/30\n",
      "7069/7069 [==============================] - 24s 3ms/step - loss: 0.2508 - accuracy: 0.9137 - val_loss: 0.2319 - val_accuracy: 0.9355\n",
      "Epoch 24/30\n",
      "7069/7069 [==============================] - 24s 3ms/step - loss: 0.2461 - accuracy: 0.9153 - val_loss: 0.2553 - val_accuracy: 0.9321\n",
      "Epoch 25/30\n",
      "7069/7069 [==============================] - 24s 3ms/step - loss: 0.2170 - accuracy: 0.9254 - val_loss: 0.2231 - val_accuracy: 0.9364\n",
      "Epoch 26/30\n",
      "7069/7069 [==============================] - 24s 3ms/step - loss: 0.2318 - accuracy: 0.9194 - val_loss: 0.2679 - val_accuracy: 0.9288\n",
      "Epoch 27/30\n",
      "7069/7069 [==============================] - 24s 3ms/step - loss: 0.2294 - accuracy: 0.9219 - val_loss: 0.2320 - val_accuracy: 0.9406\n",
      "Epoch 28/30\n",
      "7069/7069 [==============================] - 25s 3ms/step - loss: 0.2134 - accuracy: 0.9256 - val_loss: 0.2392 - val_accuracy: 0.9271\n",
      "Epoch 29/30\n",
      "7069/7069 [==============================] - 25s 3ms/step - loss: 0.2287 - accuracy: 0.9242 - val_loss: 0.2290 - val_accuracy: 0.9355\n",
      "Epoch 30/30\n",
      "7069/7069 [==============================] - 25s 4ms/step - loss: 0.2255 - accuracy: 0.9202 - val_loss: 0.2643 - val_accuracy: 0.9296\n",
      "step : 3\n",
      "accuracy: 92.96%\n",
      "Train on 7069 samples, validate on 1179 samples\n",
      "Epoch 1/30\n",
      "7069/7069 [==============================] - 26s 4ms/step - loss: 1.5276 - accuracy: 0.4436 - val_loss: 0.8620 - val_accuracy: 0.7074\n",
      "Epoch 2/30\n",
      "7069/7069 [==============================] - 25s 4ms/step - loss: 0.8375 - accuracy: 0.7109 - val_loss: 0.6413 - val_accuracy: 0.7727\n",
      "Epoch 3/30\n",
      "7069/7069 [==============================] - 25s 3ms/step - loss: 0.6383 - accuracy: 0.7788 - val_loss: 0.4442 - val_accuracy: 0.8499\n",
      "Epoch 4/30\n",
      "7069/7069 [==============================] - 25s 4ms/step - loss: 0.5278 - accuracy: 0.8169 - val_loss: 0.4270 - val_accuracy: 0.8762\n",
      "Epoch 5/30\n",
      "7069/7069 [==============================] - 25s 3ms/step - loss: 0.4599 - accuracy: 0.8376 - val_loss: 0.3689 - val_accuracy: 0.8872\n",
      "Epoch 6/30\n",
      "7069/7069 [==============================] - 25s 3ms/step - loss: 0.4036 - accuracy: 0.8595 - val_loss: 0.4100 - val_accuracy: 0.8617\n",
      "Epoch 7/30\n",
      "7069/7069 [==============================] - 25s 3ms/step - loss: 0.3788 - accuracy: 0.8720 - val_loss: 0.3418 - val_accuracy: 0.8931\n",
      "Epoch 8/30\n",
      "7069/7069 [==============================] - 27s 4ms/step - loss: 0.3549 - accuracy: 0.8754 - val_loss: 0.2991 - val_accuracy: 0.9033\n",
      "Epoch 9/30\n",
      "7069/7069 [==============================] - 25s 4ms/step - loss: 0.3389 - accuracy: 0.8799 - val_loss: 0.3546 - val_accuracy: 0.8813\n",
      "Epoch 10/30\n",
      "7069/7069 [==============================] - 25s 4ms/step - loss: 0.3132 - accuracy: 0.8890 - val_loss: 0.2954 - val_accuracy: 0.9084\n",
      "Epoch 11/30\n",
      "7069/7069 [==============================] - 26s 4ms/step - loss: 0.2976 - accuracy: 0.8938 - val_loss: 0.2759 - val_accuracy: 0.9025\n",
      "Epoch 12/30\n",
      "7069/7069 [==============================] - 25s 3ms/step - loss: 0.2942 - accuracy: 0.8972 - val_loss: 0.3310 - val_accuracy: 0.8889\n",
      "Epoch 13/30\n",
      "7069/7069 [==============================] - 25s 4ms/step - loss: 0.2803 - accuracy: 0.9018 - val_loss: 0.2563 - val_accuracy: 0.9101\n",
      "Epoch 14/30\n",
      "7069/7069 [==============================] - 25s 4ms/step - loss: 0.2785 - accuracy: 0.9034 - val_loss: 0.2527 - val_accuracy: 0.9135\n",
      "Epoch 15/30\n",
      "7069/7069 [==============================] - 26s 4ms/step - loss: 0.2662 - accuracy: 0.9078 - val_loss: 0.2364 - val_accuracy: 0.9220\n",
      "Epoch 16/30\n",
      "7069/7069 [==============================] - 26s 4ms/step - loss: 0.2582 - accuracy: 0.9099 - val_loss: 0.2295 - val_accuracy: 0.9262\n",
      "Epoch 17/30\n",
      "7069/7069 [==============================] - 25s 4ms/step - loss: 0.2512 - accuracy: 0.9148 - val_loss: 0.2533 - val_accuracy: 0.9143\n",
      "Epoch 18/30\n",
      "7069/7069 [==============================] - 27s 4ms/step - loss: 0.2412 - accuracy: 0.9163 - val_loss: 0.2430 - val_accuracy: 0.9237\n",
      "Epoch 19/30\n",
      "7069/7069 [==============================] - 27s 4ms/step - loss: 0.2417 - accuracy: 0.9154 - val_loss: 0.2565 - val_accuracy: 0.9194\n",
      "Epoch 20/30\n",
      "7069/7069 [==============================] - 26s 4ms/step - loss: 0.2289 - accuracy: 0.9219 - val_loss: 0.2740 - val_accuracy: 0.9220\n",
      "Epoch 21/30\n"
     ]
    },
    {
     "name": "stdout",
     "output_type": "stream",
     "text": [
      "7069/7069 [==============================] - 26s 4ms/step - loss: 0.2252 - accuracy: 0.9185 - val_loss: 0.2748 - val_accuracy: 0.9118\n",
      "Epoch 22/30\n",
      "7069/7069 [==============================] - 26s 4ms/step - loss: 0.2343 - accuracy: 0.9201 - val_loss: 0.2644 - val_accuracy: 0.9220\n",
      "Epoch 23/30\n",
      "7069/7069 [==============================] - 25s 4ms/step - loss: 0.2136 - accuracy: 0.9274 - val_loss: 0.2724 - val_accuracy: 0.9177\n",
      "Epoch 24/30\n",
      "7069/7069 [==============================] - 25s 4ms/step - loss: 0.2181 - accuracy: 0.9228 - val_loss: 0.2877 - val_accuracy: 0.9160\n",
      "Epoch 25/30\n",
      "7069/7069 [==============================] - 25s 4ms/step - loss: 0.2181 - accuracy: 0.9238 - val_loss: 0.2873 - val_accuracy: 0.9084\n",
      "Epoch 26/30\n",
      "7069/7069 [==============================] - 25s 4ms/step - loss: 0.2167 - accuracy: 0.9247 - val_loss: 0.3335 - val_accuracy: 0.9050\n",
      "Epoch 27/30\n",
      "7069/7069 [==============================] - 25s 4ms/step - loss: 0.2289 - accuracy: 0.9184 - val_loss: 0.2712 - val_accuracy: 0.9211\n",
      "Epoch 28/30\n",
      "7069/7069 [==============================] - 25s 4ms/step - loss: 0.2018 - accuracy: 0.9321 - val_loss: 0.2746 - val_accuracy: 0.9186\n",
      "Epoch 29/30\n",
      "7069/7069 [==============================] - 26s 4ms/step - loss: 0.2204 - accuracy: 0.9250 - val_loss: 0.2791 - val_accuracy: 0.9245\n",
      "Epoch 30/30\n",
      "7069/7069 [==============================] - 26s 4ms/step - loss: 0.2051 - accuracy: 0.9253 - val_loss: 0.3049 - val_accuracy: 0.9186\n",
      "step : 4\n",
      "accuracy: 91.86%\n",
      "Train on 7070 samples, validate on 1178 samples\n",
      "Epoch 1/30\n",
      "7070/7070 [==============================] - 27s 4ms/step - loss: 1.6290 - accuracy: 0.4082 - val_loss: 0.9306 - val_accuracy: 0.6825\n",
      "Epoch 2/30\n",
      "7070/7070 [==============================] - 24s 3ms/step - loss: 0.9225 - accuracy: 0.6771 - val_loss: 0.6582 - val_accuracy: 0.7895\n",
      "Epoch 3/30\n",
      "7070/7070 [==============================] - 24s 3ms/step - loss: 0.7387 - accuracy: 0.7457 - val_loss: 0.6012 - val_accuracy: 0.8081\n",
      "Epoch 4/30\n",
      "7070/7070 [==============================] - 24s 3ms/step - loss: 0.6368 - accuracy: 0.7778 - val_loss: 0.4803 - val_accuracy: 0.8430\n",
      "Epoch 5/30\n",
      "7070/7070 [==============================] - 25s 4ms/step - loss: 0.5649 - accuracy: 0.7989 - val_loss: 0.4245 - val_accuracy: 0.8582\n",
      "Epoch 6/30\n",
      "7070/7070 [==============================] - 24s 3ms/step - loss: 0.5228 - accuracy: 0.8184 - val_loss: 0.4108 - val_accuracy: 0.8693\n",
      "Epoch 7/30\n",
      "7070/7070 [==============================] - 25s 4ms/step - loss: 0.4900 - accuracy: 0.8298 - val_loss: 0.3649 - val_accuracy: 0.8871\n",
      "Epoch 8/30\n",
      "7070/7070 [==============================] - 26s 4ms/step - loss: 0.4615 - accuracy: 0.8358 - val_loss: 0.3745 - val_accuracy: 0.8812\n",
      "Epoch 9/30\n",
      "7070/7070 [==============================] - 24s 3ms/step - loss: 0.4455 - accuracy: 0.8455 - val_loss: 0.3461 - val_accuracy: 0.8896\n",
      "Epoch 10/30\n",
      "7070/7070 [==============================] - 24s 3ms/step - loss: 0.4426 - accuracy: 0.8475 - val_loss: 0.3754 - val_accuracy: 0.8803\n",
      "Epoch 11/30\n",
      "7070/7070 [==============================] - 24s 3ms/step - loss: 0.4196 - accuracy: 0.8528 - val_loss: 0.3091 - val_accuracy: 0.8964\n",
      "Epoch 12/30\n",
      "7070/7070 [==============================] - 24s 3ms/step - loss: 0.4047 - accuracy: 0.8610 - val_loss: 0.3380 - val_accuracy: 0.8879\n",
      "Epoch 13/30\n",
      "7070/7070 [==============================] - 24s 3ms/step - loss: 0.4148 - accuracy: 0.8594 - val_loss: 0.3501 - val_accuracy: 0.8879\n",
      "Epoch 14/30\n",
      "7070/7070 [==============================] - 25s 4ms/step - loss: 0.3733 - accuracy: 0.8714 - val_loss: 0.2790 - val_accuracy: 0.9126\n",
      "Epoch 15/30\n",
      "7070/7070 [==============================] - 24s 3ms/step - loss: 0.3655 - accuracy: 0.8728 - val_loss: 0.2875 - val_accuracy: 0.9117\n",
      "Epoch 16/30\n",
      "7070/7070 [==============================] - 24s 3ms/step - loss: 0.3603 - accuracy: 0.8721 - val_loss: 0.3067 - val_accuracy: 0.8956\n",
      "Epoch 17/30\n",
      "7070/7070 [==============================] - 24s 3ms/step - loss: 0.3633 - accuracy: 0.8685 - val_loss: 0.3182 - val_accuracy: 0.8973\n",
      "Epoch 18/30\n",
      "7070/7070 [==============================] - 24s 3ms/step - loss: 0.3498 - accuracy: 0.8769 - val_loss: 0.2959 - val_accuracy: 0.9058\n",
      "Epoch 19/30\n",
      "7070/7070 [==============================] - 25s 3ms/step - loss: 0.3537 - accuracy: 0.8723 - val_loss: 0.3157 - val_accuracy: 0.9015\n",
      "Epoch 20/30\n",
      "7070/7070 [==============================] - 24s 3ms/step - loss: 0.3313 - accuracy: 0.8874 - val_loss: 0.2879 - val_accuracy: 0.9100\n",
      "Epoch 21/30\n",
      "7070/7070 [==============================] - 24s 3ms/step - loss: 0.3417 - accuracy: 0.8842 - val_loss: 0.2731 - val_accuracy: 0.9236\n",
      "Epoch 22/30\n",
      "7070/7070 [==============================] - 24s 3ms/step - loss: 0.3227 - accuracy: 0.8847 - val_loss: 0.2856 - val_accuracy: 0.9049\n",
      "Epoch 23/30\n",
      "7070/7070 [==============================] - 24s 3ms/step - loss: 0.3119 - accuracy: 0.8900 - val_loss: 0.2749 - val_accuracy: 0.9168\n",
      "Epoch 24/30\n",
      "7070/7070 [==============================] - 24s 3ms/step - loss: 0.3265 - accuracy: 0.8851 - val_loss: 0.2913 - val_accuracy: 0.9100\n",
      "Epoch 25/30\n",
      "7070/7070 [==============================] - 24s 3ms/step - loss: 0.3162 - accuracy: 0.8884 - val_loss: 0.2780 - val_accuracy: 0.9066\n",
      "Epoch 26/30\n",
      "7070/7070 [==============================] - 24s 3ms/step - loss: 0.3199 - accuracy: 0.8935 - val_loss: 0.2731 - val_accuracy: 0.9109\n",
      "Epoch 27/30\n",
      "7070/7070 [==============================] - 24s 3ms/step - loss: 0.3088 - accuracy: 0.8958 - val_loss: 0.2785 - val_accuracy: 0.9126\n",
      "Epoch 28/30\n",
      "7070/7070 [==============================] - 24s 3ms/step - loss: 0.2777 - accuracy: 0.9021 - val_loss: 0.3000 - val_accuracy: 0.9117\n",
      "Epoch 29/30\n",
      "7070/7070 [==============================] - 24s 3ms/step - loss: 0.2868 - accuracy: 0.9008 - val_loss: 0.2669 - val_accuracy: 0.9151\n",
      "Epoch 30/30\n",
      "7070/7070 [==============================] - 24s 3ms/step - loss: 0.2883 - accuracy: 0.8992 - val_loss: 0.2876 - val_accuracy: 0.9092\n",
      "step : 5\n",
      "accuracy: 90.92%\n",
      "Train on 7074 samples, validate on 1174 samples\n",
      "Epoch 1/30\n",
      "7074/7074 [==============================] - 26s 4ms/step - loss: 1.6599 - accuracy: 0.4043 - val_loss: 0.9924 - val_accuracy: 0.6695\n",
      "Epoch 2/30\n",
      "7074/7074 [==============================] - 24s 3ms/step - loss: 0.9089 - accuracy: 0.6754 - val_loss: 0.6477 - val_accuracy: 0.7811\n",
      "Epoch 3/30\n",
      "7074/7074 [==============================] - 24s 3ms/step - loss: 0.7027 - accuracy: 0.7480 - val_loss: 0.4897 - val_accuracy: 0.8339\n",
      "Epoch 4/30\n",
      "7074/7074 [==============================] - 24s 3ms/step - loss: 0.6073 - accuracy: 0.7812 - val_loss: 0.4228 - val_accuracy: 0.8526\n",
      "Epoch 5/30\n",
      "7074/7074 [==============================] - 24s 3ms/step - loss: 0.5404 - accuracy: 0.8065 - val_loss: 0.4070 - val_accuracy: 0.8663\n",
      "Epoch 6/30\n",
      "7074/7074 [==============================] - 24s 3ms/step - loss: 0.5052 - accuracy: 0.8174 - val_loss: 0.3935 - val_accuracy: 0.8714\n",
      "Epoch 7/30\n",
      "7074/7074 [==============================] - 24s 3ms/step - loss: 0.4627 - accuracy: 0.8356 - val_loss: 0.3330 - val_accuracy: 0.8901\n",
      "Epoch 8/30\n",
      "7074/7074 [==============================] - 24s 3ms/step - loss: 0.4179 - accuracy: 0.8524 - val_loss: 0.3527 - val_accuracy: 0.8884\n",
      "Epoch 9/30\n",
      "7074/7074 [==============================] - 24s 3ms/step - loss: 0.4023 - accuracy: 0.8584 - val_loss: 0.3076 - val_accuracy: 0.8935\n",
      "Epoch 10/30\n",
      "7074/7074 [==============================] - 24s 3ms/step - loss: 0.3959 - accuracy: 0.8589 - val_loss: 0.3024 - val_accuracy: 0.9114\n",
      "Epoch 11/30\n",
      "7074/7074 [==============================] - 24s 3ms/step - loss: 0.3786 - accuracy: 0.8643 - val_loss: 0.2751 - val_accuracy: 0.9157\n",
      "Epoch 12/30\n",
      "7074/7074 [==============================] - 24s 3ms/step - loss: 0.3582 - accuracy: 0.8770 - val_loss: 0.2709 - val_accuracy: 0.9123\n",
      "Epoch 13/30\n",
      "7074/7074 [==============================] - 24s 3ms/step - loss: 0.3407 - accuracy: 0.8777 - val_loss: 0.2582 - val_accuracy: 0.9174\n",
      "Epoch 14/30\n",
      "7074/7074 [==============================] - 25s 3ms/step - loss: 0.3252 - accuracy: 0.8817 - val_loss: 0.2718 - val_accuracy: 0.9174\n",
      "Epoch 15/30\n",
      "7074/7074 [==============================] - 25s 4ms/step - loss: 0.3132 - accuracy: 0.8909 - val_loss: 0.2849 - val_accuracy: 0.9157\n",
      "Epoch 16/30\n"
     ]
    },
    {
     "name": "stdout",
     "output_type": "stream",
     "text": [
      "7074/7074 [==============================] - 25s 4ms/step - loss: 0.2949 - accuracy: 0.8972 - val_loss: 0.2561 - val_accuracy: 0.9250\n",
      "Epoch 17/30\n",
      "7074/7074 [==============================] - 26s 4ms/step - loss: 0.2914 - accuracy: 0.8982 - val_loss: 0.2435 - val_accuracy: 0.9208\n",
      "Epoch 18/30\n",
      "7074/7074 [==============================] - 25s 4ms/step - loss: 0.2834 - accuracy: 0.8916 - val_loss: 0.2820 - val_accuracy: 0.9046\n",
      "Epoch 19/30\n",
      "7074/7074 [==============================] - 24s 3ms/step - loss: 0.2911 - accuracy: 0.8947 - val_loss: 0.2607 - val_accuracy: 0.9284\n",
      "Epoch 20/30\n",
      "7074/7074 [==============================] - 25s 4ms/step - loss: 0.2665 - accuracy: 0.9107 - val_loss: 0.2569 - val_accuracy: 0.9182\n",
      "Epoch 21/30\n",
      "7074/7074 [==============================] - 26s 4ms/step - loss: 0.2730 - accuracy: 0.9050 - val_loss: 0.3053 - val_accuracy: 0.9106\n",
      "Epoch 22/30\n",
      "7074/7074 [==============================] - 24s 3ms/step - loss: 0.2718 - accuracy: 0.9032 - val_loss: 0.2396 - val_accuracy: 0.9327\n",
      "Epoch 23/30\n",
      "7074/7074 [==============================] - 24s 3ms/step - loss: 0.2721 - accuracy: 0.9068 - val_loss: 0.2326 - val_accuracy: 0.9310\n",
      "Epoch 24/30\n",
      "7074/7074 [==============================] - 24s 3ms/step - loss: 0.2482 - accuracy: 0.9129 - val_loss: 0.2395 - val_accuracy: 0.9438\n",
      "Epoch 25/30\n",
      "7074/7074 [==============================] - 24s 3ms/step - loss: 0.2688 - accuracy: 0.9036 - val_loss: 0.2708 - val_accuracy: 0.9250\n",
      "Epoch 26/30\n",
      "7074/7074 [==============================] - 25s 4ms/step - loss: 0.2494 - accuracy: 0.9104 - val_loss: 0.2528 - val_accuracy: 0.9276\n",
      "Epoch 27/30\n",
      "7074/7074 [==============================] - 27s 4ms/step - loss: 0.2477 - accuracy: 0.9132 - val_loss: 0.2595 - val_accuracy: 0.9302\n",
      "Epoch 28/30\n",
      "7074/7074 [==============================] - 24s 3ms/step - loss: 0.2510 - accuracy: 0.9162 - val_loss: 0.2242 - val_accuracy: 0.9327\n",
      "Epoch 29/30\n",
      "7074/7074 [==============================] - 24s 3ms/step - loss: 0.2399 - accuracy: 0.9152 - val_loss: 0.2363 - val_accuracy: 0.9327\n",
      "Epoch 30/30\n",
      "7074/7074 [==============================] - 25s 3ms/step - loss: 0.2376 - accuracy: 0.9182 - val_loss: 0.2184 - val_accuracy: 0.9421\n",
      "step : 6\n",
      "accuracy: 94.21%\n",
      "Train on 7075 samples, validate on 1173 samples\n",
      "Epoch 1/30\n",
      "7075/7075 [==============================] - 29s 4ms/step - loss: 1.6952 - accuracy: 0.3816 - val_loss: 1.1073 - val_accuracy: 0.6155\n",
      "Epoch 2/30\n",
      "7075/7075 [==============================] - 27s 4ms/step - loss: 0.9898 - accuracy: 0.6424 - val_loss: 0.7163 - val_accuracy: 0.7690\n",
      "Epoch 3/30\n",
      "7075/7075 [==============================] - 25s 4ms/step - loss: 0.7846 - accuracy: 0.7208 - val_loss: 0.5634 - val_accuracy: 0.8082\n",
      "Epoch 4/30\n",
      "7075/7075 [==============================] - 26s 4ms/step - loss: 0.6735 - accuracy: 0.7572 - val_loss: 0.4728 - val_accuracy: 0.8534\n",
      "Epoch 5/30\n",
      "7075/7075 [==============================] - 25s 4ms/step - loss: 0.6042 - accuracy: 0.7829 - val_loss: 0.4075 - val_accuracy: 0.8568\n",
      "Epoch 6/30\n",
      "7075/7075 [==============================] - 25s 4ms/step - loss: 0.5516 - accuracy: 0.8033 - val_loss: 0.4065 - val_accuracy: 0.8636\n",
      "Epoch 7/30\n",
      "7075/7075 [==============================] - 25s 4ms/step - loss: 0.4794 - accuracy: 0.8339 - val_loss: 0.3667 - val_accuracy: 0.8789\n",
      "Epoch 8/30\n",
      "7075/7075 [==============================] - 26s 4ms/step - loss: 0.4551 - accuracy: 0.8380 - val_loss: 0.3405 - val_accuracy: 0.8900\n",
      "Epoch 9/30\n",
      "7075/7075 [==============================] - 26s 4ms/step - loss: 0.4294 - accuracy: 0.8471 - val_loss: 0.3343 - val_accuracy: 0.8986\n",
      "Epoch 10/30\n",
      "7075/7075 [==============================] - 26s 4ms/step - loss: 0.4139 - accuracy: 0.8589 - val_loss: 0.3652 - val_accuracy: 0.8798\n",
      "Epoch 11/30\n",
      "7075/7075 [==============================] - 27s 4ms/step - loss: 0.3729 - accuracy: 0.8701 - val_loss: 0.3375 - val_accuracy: 0.8917\n",
      "Epoch 12/30\n",
      "7075/7075 [==============================] - 27s 4ms/step - loss: 0.3525 - accuracy: 0.8763 - val_loss: 0.2889 - val_accuracy: 0.9147\n",
      "Epoch 13/30\n",
      "7075/7075 [==============================] - 26s 4ms/step - loss: 0.3429 - accuracy: 0.8823 - val_loss: 0.3025 - val_accuracy: 0.9096\n",
      "Epoch 14/30\n",
      "7075/7075 [==============================] - 27s 4ms/step - loss: 0.3229 - accuracy: 0.8896 - val_loss: 0.2658 - val_accuracy: 0.9199\n",
      "Epoch 15/30\n",
      "7075/7075 [==============================] - 25s 4ms/step - loss: 0.3101 - accuracy: 0.8937 - val_loss: 0.2777 - val_accuracy: 0.9139\n",
      "Epoch 16/30\n",
      "7075/7075 [==============================] - 25s 4ms/step - loss: 0.2978 - accuracy: 0.8937 - val_loss: 0.2914 - val_accuracy: 0.9088\n",
      "Epoch 17/30\n",
      "7075/7075 [==============================] - 27s 4ms/step - loss: 0.2986 - accuracy: 0.8970 - val_loss: 0.2726 - val_accuracy: 0.9207\n",
      "Epoch 18/30\n",
      "7075/7075 [==============================] - 25s 4ms/step - loss: 0.2813 - accuracy: 0.9057 - val_loss: 0.2369 - val_accuracy: 0.9275\n",
      "Epoch 19/30\n",
      "7075/7075 [==============================] - 25s 3ms/step - loss: 0.2696 - accuracy: 0.9063 - val_loss: 0.2653 - val_accuracy: 0.9216\n",
      "Epoch 20/30\n",
      "7075/7075 [==============================] - 25s 4ms/step - loss: 0.2519 - accuracy: 0.9115 - val_loss: 0.2331 - val_accuracy: 0.9395\n",
      "Epoch 21/30\n",
      "7075/7075 [==============================] - 25s 3ms/step - loss: 0.2482 - accuracy: 0.9163 - val_loss: 0.2660 - val_accuracy: 0.9190\n",
      "Epoch 22/30\n",
      "7075/7075 [==============================] - 25s 3ms/step - loss: 0.2707 - accuracy: 0.9098 - val_loss: 0.2400 - val_accuracy: 0.9318\n",
      "Epoch 23/30\n",
      "7075/7075 [==============================] - 25s 4ms/step - loss: 0.2561 - accuracy: 0.9136 - val_loss: 0.3506 - val_accuracy: 0.9020\n",
      "Epoch 24/30\n",
      "7075/7075 [==============================] - 25s 3ms/step - loss: 0.2570 - accuracy: 0.9159 - val_loss: 0.3116 - val_accuracy: 0.9122\n",
      "Epoch 25/30\n",
      "7075/7075 [==============================] - 25s 3ms/step - loss: 0.2449 - accuracy: 0.9163 - val_loss: 0.2909 - val_accuracy: 0.9147\n",
      "Epoch 26/30\n",
      "7075/7075 [==============================] - 25s 3ms/step - loss: 0.2481 - accuracy: 0.9134 - val_loss: 0.3714 - val_accuracy: 0.8875\n",
      "Epoch 27/30\n",
      "7075/7075 [==============================] - 25s 3ms/step - loss: 0.2393 - accuracy: 0.9186 - val_loss: 0.2329 - val_accuracy: 0.9275\n",
      "Epoch 28/30\n",
      "7075/7075 [==============================] - 25s 4ms/step - loss: 0.2307 - accuracy: 0.9230 - val_loss: 0.2596 - val_accuracy: 0.9267\n",
      "Epoch 29/30\n",
      "7075/7075 [==============================] - 25s 4ms/step - loss: 0.2348 - accuracy: 0.9211 - val_loss: 0.2924 - val_accuracy: 0.9216\n",
      "Epoch 30/30\n",
      "7075/7075 [==============================] - 25s 4ms/step - loss: 0.2251 - accuracy: 0.9211 - val_loss: 0.2672 - val_accuracy: 0.9258\n",
      "step : 7\n",
      "accuracy: 92.58%\n"
     ]
    }
   ],
   "source": [
    "count_step = 0\n",
    "for T, V in kfold.split(x_aug, y_aug.argmax(axis=1)):\n",
    "    model_k = create_cnn_classifier()\n",
    "    model_k.fit(x_aug[T],y_aug[T], epochs=30, batch_size=10, validation_data=(x_aug[V],y_aug[V]))\n",
    "    count_step +=1\n",
    "    print(f\"step : {count_step}\")\n",
    "    scores = model_k.evaluate(x_aug[V], y_aug[V], verbose=0)\n",
    "    print(\"%s: %.2f%%\" % (model_k.metrics_names[1], scores[1]*100))\n",
    "    cvscores.append(scores[1] * 100)\n",
    "    \n"
   ]
  },
  {
   "cell_type": "code",
   "execution_count": 25,
   "metadata": {},
   "outputs": [
    {
     "data": {
      "text/plain": [
       "[92.81487464904785,\n",
       " 93.40101480484009,\n",
       " 92.96013712882996,\n",
       " 91.85750484466553,\n",
       " 90.91680645942688,\n",
       " 94.20783519744873,\n",
       " 92.58311986923218]"
      ]
     },
     "execution_count": 25,
     "metadata": {},
     "output_type": "execute_result"
    }
   ],
   "source": [
    "cvscores"
   ]
  },
  {
   "cell_type": "code",
   "execution_count": 26,
   "metadata": {},
   "outputs": [
    {
     "name": "stdout",
     "output_type": "stream",
     "text": [
      "92.68% (+/- 0.98%) \n"
     ]
    }
   ],
   "source": [
    "print(f\"{np.mean(cvscores):.2f}% (+/- {np.std(cvscores):.2f}%) \")"
   ]
  },
  {
   "cell_type": "code",
   "execution_count": null,
   "metadata": {},
   "outputs": [],
   "source": []
  }
 ],
 "metadata": {
  "kernelspec": {
   "display_name": "Python 3",
   "language": "python",
   "name": "python3"
  },
  "language_info": {
   "codemirror_mode": {
    "name": "ipython",
    "version": 3
   },
   "file_extension": ".py",
   "mimetype": "text/x-python",
   "name": "python",
   "nbconvert_exporter": "python",
   "pygments_lexer": "ipython3",
   "version": "3.7.4"
  },
  "nbTranslate": {
   "displayLangs": [
    "*"
   ],
   "hotkey": "alt-t",
   "langInMainMenu": true,
   "sourceLang": "fr",
   "targetLang": "en",
   "useGoogleTranslate": true
  },
  "varInspector": {
   "cols": {
    "lenName": 16,
    "lenType": 16,
    "lenVar": 40
   },
   "kernels_config": {
    "python": {
     "delete_cmd_postfix": "",
     "delete_cmd_prefix": "del ",
     "library": "var_list.py",
     "varRefreshCmd": "print(var_dic_list())"
    },
    "r": {
     "delete_cmd_postfix": ") ",
     "delete_cmd_prefix": "rm(",
     "library": "var_list.r",
     "varRefreshCmd": "cat(var_dic_list()) "
    }
   },
   "types_to_exclude": [
    "module",
    "function",
    "builtin_function_or_method",
    "instance",
    "_Feature"
   ],
   "window_display": false
  }
 },
 "nbformat": 4,
 "nbformat_minor": 2
}
